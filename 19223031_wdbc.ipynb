{
  "nbformat": 4,
  "nbformat_minor": 0,
  "metadata": {
    "colab": {
      "name": "19223031_wdbc.ipynb",
      "provenance": [],
      "collapsed_sections": [],
      "toc_visible": true,
      "authorship_tag": "ABX9TyPWogN/peC15mNtu5TU8ReG",
      "include_colab_link": true
    },
    "kernelspec": {
      "name": "python3",
      "display_name": "Python 3"
    }
  },
  "cells": [
    {
      "cell_type": "markdown",
      "metadata": {
        "id": "view-in-github",
        "colab_type": "text"
      },
      "source": [
        "<a href=\"https://colab.research.google.com/github/gayatribasude/MachineLearning/blob/master/19223031_wdbc.ipynb\" target=\"_parent\"><img src=\"https://colab.research.google.com/assets/colab-badge.svg\" alt=\"Open In Colab\"/></a>"
      ]
    },
    {
      "cell_type": "markdown",
      "metadata": {
        "id": "CjnQDxnF83j3"
      },
      "source": [
        "#Diagnosis of Breast Cancer"
      ]
    },
    {
      "cell_type": "markdown",
      "metadata": {
        "id": "gf0aZoHh86FX"
      },
      "source": [
        "\n",
        "\n",
        "```\n",
        "Gayatri Basude\n",
        "19223031\n",
        "III Sem, MCA 2019-2022\n",
        "\n",
        "```\n"
      ]
    },
    {
      "cell_type": "markdown",
      "metadata": {
        "id": "hKVb_vmi8kat"
      },
      "source": [
        "##Introduction"
      ]
    },
    {
      "cell_type": "markdown",
      "metadata": {
        "id": "A3cE6UqI-SqX"
      },
      "source": [
        "\n",
        "*   The dataset is obtained from a hospital named “Wisconsin”, therefore this dataset is known as Wisconsin Diagnostic Breast Cancer (WDBC). \n",
        "*   It has 31 feature attributes and a class attribute. In which all feature attributes are of numeric type and class attribute is categorical. Features are computed from a digitized image of a fine needle aspirate (FNA) of a breast mass.\n",
        "* Number of instances: 569 \n",
        "* Number of attributes: 32 (ID, diagnosis, 30 real-valued input features)\n",
        "* Class distribution: 357 benign, 212 malignant\n",
        "* 0 represents bening and 1 represents malignant.\n",
        "\n",
        "\n",
        "\n"
      ]
    },
    {
      "cell_type": "markdown",
      "metadata": {
        "id": "gGoYJrBCA0yN"
      },
      "source": [
        "##Problem Statement"
      ]
    },
    {
      "cell_type": "markdown",
      "metadata": {
        "id": "88LWHwsjA1x2"
      },
      "source": [
        "> Here our task is to make a model which identifies or predicts whether a person is suffering from cancer or not by feeding attribute values to a model.\n"
      ]
    },
    {
      "cell_type": "markdown",
      "metadata": {
        "id": "FsZbUweKBGWR"
      },
      "source": [
        "## Strategies used"
      ]
    },
    {
      "cell_type": "markdown",
      "metadata": {
        "id": "JUShMen1BOc6"
      },
      "source": [
        "*   **Dataset:**\n",
        " * 569 instances with 30 features\n",
        " * Output: 0/1 (benign/malignant)\n",
        " * null values: 0\n",
        "* **Problem type:**\n",
        "  * Supervised \n",
        "  * Categorical\n",
        "  * Binary Classification\n",
        "*   **Splitted the dataset into two:**\n",
        "  * train (70%)- 426 instances\n",
        "  * test (30%)- 143 instances\n",
        "* **Normalization:**\n",
        "  * Used Z score\n",
        "  * x(new)= (x(old) - mean) /standard_deviation\n",
        "* **Trained Using SVM (Support Vector Machine):**\n",
        "  * A support vector machine (SVM) is a supervised machine learning model that uses classification algorithms for two-group classification problems.\n",
        "  * SVM is well suited for classification of complex but small or medium sized datasets.\n",
        "* **Tuning the parameter of SVM:**\n",
        "  * For choosing appropriate value for \"gamma\" and \"C\" paramater, I have used GridSeach.\n",
        "* **CrossValidation and Pipeline:**\n",
        "  * This splits training dataset into k no of parts and performs training on k-1 parts and tests the model using remaining one part.\n",
        "  * I have used k=5 for cross validation in GridSearch\n",
        "  * As training dataset diving itself into parts, and i need to perform normalization operation on training part, therefore to making this work possible, I have used pipeline.\n",
        "* **Evalution:**\n",
        "  * Accuracy\n",
        " * Confusion Matrix\n",
        " * Precision and Recall\n",
        " * F1 score\n",
        " * AUC ROC curve\n",
        "\n",
        "\n"
      ]
    },
    {
      "cell_type": "markdown",
      "metadata": {
        "id": "GpDUeXxYH9pL"
      },
      "source": [
        "##Code"
      ]
    },
    {
      "cell_type": "markdown",
      "metadata": {
        "id": "Eo2Cek8kGfeF"
      },
      "source": [
        "###Imports"
      ]
    },
    {
      "cell_type": "code",
      "metadata": {
        "id": "oCRl7xo6Gair"
      },
      "source": [
        "import numpy as np\n",
        "import pandas as pd\n",
        "from matplotlib import pyplot as plt"
      ],
      "execution_count": null,
      "outputs": []
    },
    {
      "cell_type": "code",
      "metadata": {
        "id": "pNmpi4rEKkRx"
      },
      "source": [
        "pd.options.display.width=None"
      ],
      "execution_count": null,
      "outputs": []
    },
    {
      "cell_type": "code",
      "metadata": {
        "id": "xba70BbbVwGv"
      },
      "source": [
        "from sklearn.model_selection import train_test_split,GridSearchCV\n",
        "from sklearn.preprocessing import StandardScaler\n",
        "from sklearn.model_selection import KFold\n",
        "from sklearn.pipeline import make_pipeline\n",
        "from sklearn.pipeline import Pipeline\n",
        "from sklearn.svm import SVC\n",
        "from sklearn.metrics import confusion_matrix\n",
        "from sklearn.metrics import f1_score\n",
        "from sklearn.metrics import roc_curve"
      ],
      "execution_count": null,
      "outputs": []
    },
    {
      "cell_type": "markdown",
      "metadata": {
        "id": "HlLICCG5G8Ca"
      },
      "source": [
        "Required dataset is also present in sklearn.datasets"
      ]
    },
    {
      "cell_type": "code",
      "metadata": {
        "id": "WC0SGaoUG20G"
      },
      "source": [
        "from sklearn.datasets import load_breast_cancer\n",
        "cancer=load_breast_cancer()"
      ],
      "execution_count": null,
      "outputs": []
    },
    {
      "cell_type": "markdown",
      "metadata": {
        "id": "5ur1gX58HNZ5"
      },
      "source": [
        "###Overview of dataset"
      ]
    },
    {
      "cell_type": "code",
      "metadata": {
        "colab": {
          "base_uri": "https://localhost:8080/"
        },
        "id": "B3S9VnnmHSNn",
        "outputId": "f46930a7-cd96-4bec-94ff-e56fc3e9df25"
      },
      "source": [
        "print(\"All given information:\\n\",cancer.keys())"
      ],
      "execution_count": null,
      "outputs": [
        {
          "output_type": "stream",
          "text": [
            "All given information:\n",
            " dict_keys(['data', 'target', 'target_names', 'DESCR', 'feature_names', 'filename'])\n"
          ],
          "name": "stdout"
        }
      ]
    },
    {
      "cell_type": "code",
      "metadata": {
        "colab": {
          "base_uri": "https://localhost:8080/"
        },
        "id": "EAHJcrzIHfsm",
        "outputId": "371b05d7-0193-4260-c404-509e1b498177"
      },
      "source": [
        "print(\"data points:\\n\",cancer['data'])"
      ],
      "execution_count": null,
      "outputs": [
        {
          "output_type": "stream",
          "text": [
            "data points:\n",
            " [[1.799e+01 1.038e+01 1.228e+02 ... 2.654e-01 4.601e-01 1.189e-01]\n",
            " [2.057e+01 1.777e+01 1.329e+02 ... 1.860e-01 2.750e-01 8.902e-02]\n",
            " [1.969e+01 2.125e+01 1.300e+02 ... 2.430e-01 3.613e-01 8.758e-02]\n",
            " ...\n",
            " [1.660e+01 2.808e+01 1.083e+02 ... 1.418e-01 2.218e-01 7.820e-02]\n",
            " [2.060e+01 2.933e+01 1.401e+02 ... 2.650e-01 4.087e-01 1.240e-01]\n",
            " [7.760e+00 2.454e+01 4.792e+01 ... 0.000e+00 2.871e-01 7.039e-02]]\n"
          ],
          "name": "stdout"
        }
      ]
    },
    {
      "cell_type": "code",
      "metadata": {
        "colab": {
          "base_uri": "https://localhost:8080/"
        },
        "id": "1hmny_YNLZPV",
        "outputId": "be0c56fa-b094-4f3f-fd4a-b8b9f5be8325"
      },
      "source": [
        "print(\"Total targets:\\n\",cancer['target'])"
      ],
      "execution_count": null,
      "outputs": [
        {
          "output_type": "stream",
          "text": [
            "Total targets:\n",
            " [0 0 0 0 0 0 0 0 0 0 0 0 0 0 0 0 0 0 0 1 1 1 0 0 0 0 0 0 0 0 0 0 0 0 0 0 0\n",
            " 1 0 0 0 0 0 0 0 0 1 0 1 1 1 1 1 0 0 1 0 0 1 1 1 1 0 1 0 0 1 1 1 1 0 1 0 0\n",
            " 1 0 1 0 0 1 1 1 0 0 1 0 0 0 1 1 1 0 1 1 0 0 1 1 1 0 0 1 1 1 1 0 1 1 0 1 1\n",
            " 1 1 1 1 1 1 0 0 0 1 0 0 1 1 1 0 0 1 0 1 0 0 1 0 0 1 1 0 1 1 0 1 1 1 1 0 1\n",
            " 1 1 1 1 1 1 1 1 0 1 1 1 1 0 0 1 0 1 1 0 0 1 1 0 0 1 1 1 1 0 1 1 0 0 0 1 0\n",
            " 1 0 1 1 1 0 1 1 0 0 1 0 0 0 0 1 0 0 0 1 0 1 0 1 1 0 1 0 0 0 0 1 1 0 0 1 1\n",
            " 1 0 1 1 1 1 1 0 0 1 1 0 1 1 0 0 1 0 1 1 1 1 0 1 1 1 1 1 0 1 0 0 0 0 0 0 0\n",
            " 0 0 0 0 0 0 0 1 1 1 1 1 1 0 1 0 1 1 0 1 1 0 1 0 0 1 1 1 1 1 1 1 1 1 1 1 1\n",
            " 1 0 1 1 0 1 0 1 1 1 1 1 1 1 1 1 1 1 1 1 1 0 1 1 1 0 1 0 1 1 1 1 0 0 0 1 1\n",
            " 1 1 0 1 0 1 0 1 1 1 0 1 1 1 1 1 1 1 0 0 0 1 1 1 1 1 1 1 1 1 1 1 0 0 1 0 0\n",
            " 0 1 0 0 1 1 1 1 1 0 1 1 1 1 1 0 1 1 1 0 1 1 0 0 1 1 1 1 1 1 0 1 1 1 1 1 1\n",
            " 1 0 1 1 1 1 1 0 1 1 0 1 1 1 1 1 1 1 1 1 1 1 1 0 1 0 0 1 0 1 1 1 1 1 0 1 1\n",
            " 0 1 0 1 1 0 1 0 1 1 1 1 1 1 1 1 0 0 1 1 1 1 1 1 0 1 1 1 1 1 1 1 1 1 1 0 1\n",
            " 1 1 1 1 1 1 0 1 0 1 1 0 1 1 1 1 1 0 0 1 0 1 0 1 1 1 1 1 0 1 1 0 1 0 1 0 0\n",
            " 1 1 1 0 1 1 1 1 1 1 1 1 1 1 1 0 1 0 0 1 1 1 1 1 1 1 1 1 1 1 1 1 1 1 1 1 1\n",
            " 1 1 1 1 1 1 1 0 0 0 0 0 0 1]\n"
          ],
          "name": "stdout"
        }
      ]
    },
    {
      "cell_type": "code",
      "metadata": {
        "colab": {
          "base_uri": "https://localhost:8080/"
        },
        "id": "TaVsYPr5LgoU",
        "outputId": "20e4de23-c866-4184-c4e7-ee1f254e7d31"
      },
      "source": [
        "print(\"Targets:\\n\",cancer['target_names'])"
      ],
      "execution_count": null,
      "outputs": [
        {
          "output_type": "stream",
          "text": [
            "Targets:\n",
            " ['malignant' 'benign']\n"
          ],
          "name": "stdout"
        }
      ]
    },
    {
      "cell_type": "code",
      "metadata": {
        "colab": {
          "base_uri": "https://localhost:8080/"
        },
        "id": "DL4GljpOLqMk",
        "outputId": "6feada3d-8d35-4992-c409-b24b829778f6"
      },
      "source": [
        "print(\"Description:\\n\",cancer['DESCR'][:1150])"
      ],
      "execution_count": null,
      "outputs": [
        {
          "output_type": "stream",
          "text": [
            "Description:\n",
            " .. _breast_cancer_dataset:\n",
            "\n",
            "Breast cancer wisconsin (diagnostic) dataset\n",
            "--------------------------------------------\n",
            "\n",
            "**Data Set Characteristics:**\n",
            "\n",
            "    :Number of Instances: 569\n",
            "\n",
            "    :Number of Attributes: 30 numeric, predictive attributes and the class\n",
            "\n",
            "    :Attribute Information:\n",
            "        - radius (mean of distances from center to points on the perimeter)\n",
            "        - texture (standard deviation of gray-scale values)\n",
            "        - perimeter\n",
            "        - area\n",
            "        - smoothness (local variation in radius lengths)\n",
            "        - compactness (perimeter^2 / area - 1.0)\n",
            "        - concavity (severity of concave portions of the contour)\n",
            "        - concave points (number of concave portions of the contour)\n",
            "        - symmetry \n",
            "        - fractal dimension (\"coastline approximation\" - 1)\n",
            "\n",
            "        The mean, standard error, and \"worst\" or largest (mean of the three\n",
            "        largest values) of these features were computed for each image,\n",
            "        resulting in 30 features.  For instance, field 3 is Mean Radius, field\n",
            "        13 is Radius SE, field 23 is Worst Radius.\n",
            "\n",
            "        - class:\n",
            "                - WDBC-Malignant\n",
            "                - WDBC-Benign\n",
            "\n",
            "    :Summary\n"
          ],
          "name": "stdout"
        }
      ]
    },
    {
      "cell_type": "code",
      "metadata": {
        "colab": {
          "base_uri": "https://localhost:8080/"
        },
        "id": "5wZPn4XqSyhH",
        "outputId": "2ce4a91a-0ae9-40ce-ee62-ed4e8c10ccf6"
      },
      "source": [
        "print(\"feature_names:\\n\",cancer['feature_names'])"
      ],
      "execution_count": null,
      "outputs": [
        {
          "output_type": "stream",
          "text": [
            "feature_names:\n",
            " ['mean radius' 'mean texture' 'mean perimeter' 'mean area'\n",
            " 'mean smoothness' 'mean compactness' 'mean concavity'\n",
            " 'mean concave points' 'mean symmetry' 'mean fractal dimension'\n",
            " 'radius error' 'texture error' 'perimeter error' 'area error'\n",
            " 'smoothness error' 'compactness error' 'concavity error'\n",
            " 'concave points error' 'symmetry error' 'fractal dimension error'\n",
            " 'worst radius' 'worst texture' 'worst perimeter' 'worst area'\n",
            " 'worst smoothness' 'worst compactness' 'worst concavity'\n",
            " 'worst concave points' 'worst symmetry' 'worst fractal dimension']\n"
          ],
          "name": "stdout"
        }
      ]
    },
    {
      "cell_type": "code",
      "metadata": {
        "colab": {
          "base_uri": "https://localhost:8080/"
        },
        "id": "F7c-ZlLIS-dK",
        "outputId": "0c193fef-7428-4da4-853b-2ca99f279114"
      },
      "source": [
        "print(\"filename:\\n\",cancer['filename'])"
      ],
      "execution_count": null,
      "outputs": [
        {
          "output_type": "stream",
          "text": [
            "filename:\n",
            " /usr/local/lib/python3.6/dist-packages/sklearn/datasets/data/breast_cancer.csv\n"
          ],
          "name": "stdout"
        }
      ]
    },
    {
      "cell_type": "markdown",
      "metadata": {
        "id": "L29Ev73e6c0H"
      },
      "source": [
        "###Statistics"
      ]
    },
    {
      "cell_type": "code",
      "metadata": {
        "colab": {
          "base_uri": "https://localhost:8080/"
        },
        "id": "kDJvU4TPTJbX",
        "outputId": "588ff344-344e-4364-e9ff-319a24e6f4b2"
      },
      "source": [
        "print(\"Statistics:\\n\",pd.DataFrame(cancer['data']).describe())"
      ],
      "execution_count": null,
      "outputs": [
        {
          "output_type": "stream",
          "text": [
            "Statistics:\n",
            "                0           1           2   ...          27          28          29\n",
            "count  569.000000  569.000000  569.000000  ...  569.000000  569.000000  569.000000\n",
            "mean    14.127292   19.289649   91.969033  ...    0.114606    0.290076    0.083946\n",
            "std      3.524049    4.301036   24.298981  ...    0.065732    0.061867    0.018061\n",
            "min      6.981000    9.710000   43.790000  ...    0.000000    0.156500    0.055040\n",
            "25%     11.700000   16.170000   75.170000  ...    0.064930    0.250400    0.071460\n",
            "50%     13.370000   18.840000   86.240000  ...    0.099930    0.282200    0.080040\n",
            "75%     15.780000   21.800000  104.100000  ...    0.161400    0.317900    0.092080\n",
            "max     28.110000   39.280000  188.500000  ...    0.291000    0.663800    0.207500\n",
            "\n",
            "[8 rows x 30 columns]\n"
          ],
          "name": "stdout"
        }
      ]
    },
    {
      "cell_type": "markdown",
      "metadata": {
        "id": "vh6UoIYI0hUx"
      },
      "source": [
        "###Splitting dataset into 2 parts:\n",
        "* Train\n",
        "* Test"
      ]
    },
    {
      "cell_type": "code",
      "metadata": {
        "colab": {
          "base_uri": "https://localhost:8080/"
        },
        "id": "CIn4PG581xXW",
        "outputId": "80158f2b-4b76-42e9-f972-2d5aede6d0b8"
      },
      "source": [
        "print(\"Total dataset's shape: \",cancer['data'].shape)"
      ],
      "execution_count": null,
      "outputs": [
        {
          "output_type": "stream",
          "text": [
            "Total dataset's shape:  (569, 30)\n"
          ],
          "name": "stdout"
        }
      ]
    },
    {
      "cell_type": "code",
      "metadata": {
        "id": "jIhwhX670sLC"
      },
      "source": [
        "input_train,input_test,output_train,output_test=train_test_split(cancer['data'],cancer['target'],random_state=42)"
      ],
      "execution_count": null,
      "outputs": []
    },
    {
      "cell_type": "code",
      "metadata": {
        "colab": {
          "base_uri": "https://localhost:8080/"
        },
        "id": "FPajf-5o1Xlm",
        "outputId": "bf75a951-6c8f-45f6-efc0-308b24b83643"
      },
      "source": [
        "print(\"Shape of input_train: \",input_train.shape)\n",
        "print(\"Shape of output_train: \",output_train.shape)\n",
        "print(\"Shape of input_test: \",input_test.shape)\n",
        "print(\"Shape of output_test: \",output_test.shape)"
      ],
      "execution_count": null,
      "outputs": [
        {
          "output_type": "stream",
          "text": [
            "Shape of input_train:  (426, 30)\n",
            "Shape of output_train:  (426,)\n",
            "Shape of input_test:  (143, 30)\n",
            "Shape of output_test:  (143,)\n"
          ],
          "name": "stdout"
        }
      ]
    },
    {
      "cell_type": "markdown",
      "metadata": {
        "id": "auUozwrgVp0t"
      },
      "source": [
        "###Normalization Function (Z score)"
      ]
    },
    {
      "cell_type": "code",
      "metadata": {
        "id": "T_bGbDbHVttK"
      },
      "source": [
        "scaler=StandardScaler()"
      ],
      "execution_count": null,
      "outputs": []
    },
    {
      "cell_type": "markdown",
      "metadata": {
        "id": "SIF_neuUc6VR"
      },
      "source": [
        "###Model"
      ]
    },
    {
      "cell_type": "code",
      "metadata": {
        "id": "8WXUwpChxS2M"
      },
      "source": [
        "svc=SVC()"
      ],
      "execution_count": null,
      "outputs": []
    },
    {
      "cell_type": "markdown",
      "metadata": {
        "id": "MLigq-_iko--"
      },
      "source": [
        "###Pipeline"
      ]
    },
    {
      "cell_type": "code",
      "metadata": {
        "id": "HrrF2nwDx1zI"
      },
      "source": [
        "param_grid = {'svm__C': [0.001, 0.01, 0.1, 1, 10, 100],'svm__gamma': [0.001, 0.01, 0.1, 1, 10, 100]}"
      ],
      "execution_count": null,
      "outputs": []
    },
    {
      "cell_type": "code",
      "metadata": {
        "id": "ZRPBieQnyQxl"
      },
      "source": [
        "pipe = Pipeline([(\"scaler\", scaler), (\"svm\", svc)])"
      ],
      "execution_count": null,
      "outputs": []
    },
    {
      "cell_type": "markdown",
      "metadata": {
        "id": "8gNWKaYzyFE2"
      },
      "source": [
        "###GridSearch"
      ]
    },
    {
      "cell_type": "code",
      "metadata": {
        "colab": {
          "base_uri": "https://localhost:8080/"
        },
        "id": "sq63G8TMyCLq",
        "outputId": "85e102db-2872-4f00-ea02-bbeec413a93a"
      },
      "source": [
        "grid = GridSearchCV(pipe, param_grid=param_grid, cv=5)\n",
        "grid.fit(input_train, output_train)\n",
        "print(\"Best cross-validation accuracy: {:.2f}\".format(grid.best_score_))\n",
        "print(\"Test set score: {:.2f}\".format(grid.score(input_test, output_test)))\n",
        "print(\"Best parameters: {}\".format(grid.best_params_))"
      ],
      "execution_count": null,
      "outputs": [
        {
          "output_type": "stream",
          "text": [
            "Best cross-validation accuracy: 0.97\n",
            "Test set score: 0.99\n",
            "Best parameters: {'svm__C': 10, 'svm__gamma': 0.001}\n"
          ],
          "name": "stdout"
        }
      ]
    },
    {
      "cell_type": "markdown",
      "metadata": {
        "id": "UWwJOPXf25yE"
      },
      "source": [
        "###Prediction"
      ]
    },
    {
      "cell_type": "code",
      "metadata": {
        "id": "ErXQ-oao25hn"
      },
      "source": [
        "predicted=grid.predict(input_test)"
      ],
      "execution_count": null,
      "outputs": []
    },
    {
      "cell_type": "code",
      "metadata": {
        "colab": {
          "base_uri": "https://localhost:8080/"
        },
        "id": "DSqTCz4Q7Zgu",
        "outputId": "8ded1f85-9bef-4f26-829d-d86918c6d04d"
      },
      "source": [
        "print(\"actual result:\\n\",output_test)"
      ],
      "execution_count": null,
      "outputs": [
        {
          "output_type": "stream",
          "text": [
            "actual result:\n",
            " [1 0 0 1 1 0 0 0 1 1 1 0 1 0 1 0 1 1 1 0 0 1 0 1 1 1 1 1 1 0 1 1 1 1 1 1 0\n",
            " 1 0 1 1 0 1 1 1 1 1 1 1 1 0 0 1 1 1 1 1 0 0 1 1 0 0 1 1 1 0 0 1 1 0 0 1 0\n",
            " 1 1 1 0 1 1 0 1 0 0 0 0 0 0 1 1 1 1 1 1 1 1 0 0 1 0 0 1 0 0 1 1 1 0 1 1 0\n",
            " 1 1 0 1 0 1 1 1 0 1 1 1 0 1 0 0 1 1 0 0 0 1 1 1 0 1 1 1 0 1 0 1]\n"
          ],
          "name": "stdout"
        }
      ]
    },
    {
      "cell_type": "code",
      "metadata": {
        "colab": {
          "base_uri": "https://localhost:8080/"
        },
        "id": "fpk32WJE7eWn",
        "outputId": "28a449bc-aa33-452a-b0a6-105d230b7da3"
      },
      "source": [
        "print(\"predicted result:\\n\",predicted)"
      ],
      "execution_count": null,
      "outputs": [
        {
          "output_type": "stream",
          "text": [
            "predicted result:\n",
            " [1 0 0 1 1 0 0 0 1 1 1 0 1 0 1 0 1 1 1 0 1 1 0 1 1 1 1 1 1 0 1 1 1 1 1 1 0\n",
            " 1 0 1 1 0 1 1 1 1 1 1 1 1 0 0 1 1 1 1 1 0 0 1 1 0 0 1 1 1 0 0 1 1 0 0 1 0\n",
            " 1 1 1 1 1 1 0 1 0 0 0 0 0 0 1 1 1 1 1 1 1 1 0 0 1 0 0 1 0 0 1 1 1 0 1 1 0\n",
            " 1 1 0 1 0 1 1 1 0 1 1 1 0 1 0 0 1 1 0 0 0 1 1 1 0 1 1 1 0 1 0 1]\n"
          ],
          "name": "stdout"
        }
      ]
    },
    {
      "cell_type": "code",
      "metadata": {
        "colab": {
          "base_uri": "https://localhost:8080/"
        },
        "id": "DiZKQccz7r7o",
        "outputId": "48d13c8f-28f4-4196-9f9b-7e9ce101ee96"
      },
      "source": [
        "for i in range(len(output_test)):\n",
        "  if(output_test[i]!=predicted[i]):\n",
        "    print(\"%d, actual:%d, predicted:%d\\n\"%(i,output_test[i],predicted[i]))"
      ],
      "execution_count": null,
      "outputs": [
        {
          "output_type": "stream",
          "text": [
            "20, actual:0, predicted:1\n",
            "\n",
            "77, actual:0, predicted:1\n",
            "\n"
          ],
          "name": "stdout"
        }
      ]
    },
    {
      "cell_type": "markdown",
      "metadata": {
        "id": "lgmTVSeF2yxc"
      },
      "source": [
        "###Evalution"
      ]
    },
    {
      "cell_type": "code",
      "metadata": {
        "colab": {
          "base_uri": "https://localhost:8080/"
        },
        "id": "oauGUHrS212v",
        "outputId": "b0826137-5b25-480d-d0b4-743b9d67a2aa"
      },
      "source": [
        "confusion = confusion_matrix(output_test, predicted)\n",
        "print(\"Confusion matrix:\\n{}\".format(confusion))\n",
        "#rows-actual,cols-predicted"
      ],
      "execution_count": null,
      "outputs": [
        {
          "output_type": "stream",
          "text": [
            "Confusion matrix:\n",
            "[[52  2]\n",
            " [ 0 89]]\n"
          ],
          "name": "stdout"
        }
      ]
    },
    {
      "cell_type": "code",
      "metadata": {
        "colab": {
          "base_uri": "https://localhost:8080/"
        },
        "id": "ZC147aH43xWl",
        "outputId": "2cae225e-b65e-4e6b-97b3-1853cff0a9bf"
      },
      "source": [
        "from sklearn.metrics import classification_report\n",
        "print(classification_report(output_test, predicted,target_names=['benign','malignant']))"
      ],
      "execution_count": null,
      "outputs": [
        {
          "output_type": "stream",
          "text": [
            "              precision    recall  f1-score   support\n",
            "\n",
            "      benign       1.00      0.96      0.98        54\n",
            "   malignant       0.98      1.00      0.99        89\n",
            "\n",
            "    accuracy                           0.99       143\n",
            "   macro avg       0.99      0.98      0.99       143\n",
            "weighted avg       0.99      0.99      0.99       143\n",
            "\n"
          ],
          "name": "stdout"
        }
      ]
    },
    {
      "cell_type": "code",
      "metadata": {
        "colab": {
          "base_uri": "https://localhost:8080/"
        },
        "id": "58yFnFyg3dfe",
        "outputId": "32b9a02c-ac69-4051-ff54-2260d099c976"
      },
      "source": [
        "print(\"f1 score most frequent: {:.2f}\".format(f1_score(output_test, predicted)))"
      ],
      "execution_count": null,
      "outputs": [
        {
          "output_type": "stream",
          "text": [
            "f1 score most frequent: 0.99\n"
          ],
          "name": "stdout"
        }
      ]
    },
    {
      "cell_type": "code",
      "metadata": {
        "colab": {
          "base_uri": "https://localhost:8080/",
          "height": 296
        },
        "id": "fu21dNBM6hWD",
        "outputId": "6ab94f6d-0a40-4259-ec7e-7a1a4b98fddc"
      },
      "source": [
        "fpr, tpr, thresholds = roc_curve(output_test, predicted)\n",
        "plt.plot(fpr, tpr, label=\"ROC Curve\")\n",
        "plt.xlabel(\"FPR\")\n",
        "plt.ylabel(\"TPR (recall)\")\n",
        "\n",
        "plt.legend(loc=4)"
      ],
      "execution_count": null,
      "outputs": [
        {
          "output_type": "execute_result",
          "data": {
            "text/plain": [
              "<matplotlib.legend.Legend at 0x7f7ec2fd0cf8>"
            ]
          },
          "metadata": {
            "tags": []
          },
          "execution_count": 29
        },
        {
          "output_type": "display_data",
          "data": {
            "image/png": "[encoded data removed]",
            "text/plain": [
              "<Figure size 432x288 with 1 Axes>"
            ]
          },
          "metadata": {
            "tags": [],
            "needs_background": "light"
          }
        }
      ]
    },
    {
      "cell_type": "markdown",
      "metadata": {
        "id": "fMRiFjftIEBA"
      },
      "source": [
        "##Conclusion"
      ]
    },
    {
      "cell_type": "markdown",
      "metadata": {
        "id": "sq_8N_ffIGny"
      },
      "source": [
        "**This model is pretty good**\n",
        "1.   Best cross-validation accuracy: 0.97\n",
        "2.   Test set score: 0.99\n",
        "3. F1 score most frequent: 0.99\n",
        " \n",
        "\n"
      ]
    },
    {
      "cell_type": "markdown",
      "metadata": {
        "id": "tRcFHiwmcmwR"
      },
      "source": [
        "##References"
      ]
    },
    {
      "cell_type": "markdown",
      "metadata": {
        "id": "ACQeCahOcqiG"
      },
      "source": [
        "\n",
        "*   Introduction to Machine Learning with Python: A Guide for Data Scientists 1st Edition\n",
        "by Andreas C. Müller, Sarah Guido  \n",
        "* https://stackoverflow.com/questions/44446501/how-to-standardize-data-with-sklearns-cross-val-score\n",
        "\n"
      ]
    }
  ]
}