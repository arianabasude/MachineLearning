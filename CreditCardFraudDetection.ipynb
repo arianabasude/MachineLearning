{
  "nbformat": 4,
  "nbformat_minor": 0,
  "metadata": {
    "colab": {
      "name": "CreditCardFraudDetection.ipynb",
      "provenance": [],
      "authorship_tag": "ABX9TyPhh4A6YDD0rpC1lDPsS2FV",
      "include_colab_link": true
    },
    "kernelspec": {
      "name": "python3",
      "display_name": "Python 3"
    }
  },
  "cells": [
    {
      "cell_type": "markdown",
      "metadata": {
        "id": "view-in-github",
        "colab_type": "text"
      },
      "source": [
        "<a href=\"https://colab.research.google.com/github/gayatribasude/MachineLearning/blob/master/CreditCardFraudDetection.ipynb\" target=\"_parent\"><img src=\"https://colab.research.google.com/assets/colab-badge.svg\" alt=\"Open In Colab\"/></a>"
      ]
    },
    {
      "cell_type": "markdown",
      "metadata": {
        "id": "tX5XeU69AsH8"
      },
      "source": [
        "Here lets import our dataset."
      ]
    },
    {
      "cell_type": "code",
      "metadata": {
        "id": "3PnXLT3gCsKF"
      },
      "source": [
        "#all imports\n",
        "import pandas as pd\n",
        "import numpy as np\n",
        "from matplotlib import pyplot as pyl\n",
        "import io"
      ],
      "execution_count": null,
      "outputs": []
    },
    {
      "cell_type": "code",
      "metadata": {
        "id": "0I-5iYijcT3d",
        "colab": {
          "base_uri": "https://localhost:8080/"
        },
        "outputId": "8936f68e-32dc-4f56-d805-31d0311734a8"
      },
      "source": [
        "ls"
      ],
      "execution_count": null,
      "outputs": [
        {
          "output_type": "stream",
          "text": [
            "\u001b[0m\u001b[01;34msample_data\u001b[0m/\n"
          ],
          "name": "stdout"
        }
      ]
    },
    {
      "cell_type": "code",
      "metadata": {
        "id": "2wFmkXIQcWzM",
        "colab": {
          "base_uri": "https://localhost:8080/"
        },
        "outputId": "31a6f73e-eb4d-465f-baee-0308fab9bbc3"
      },
      "source": [
        "cd sample_data/"
      ],
      "execution_count": null,
      "outputs": [
        {
          "output_type": "stream",
          "text": [
            "/content/sample_data\n"
          ],
          "name": "stdout"
        }
      ]
    },
    {
      "cell_type": "code",
      "metadata": {
        "id": "TV5athepcbII",
        "colab": {
          "base_uri": "https://localhost:8080/"
        },
        "outputId": "3e406745-7163-4466-cf8f-8a434f9016f3"
      },
      "source": [
        "ls"
      ],
      "execution_count": null,
      "outputs": [
        {
          "output_type": "stream",
          "text": [
            "\u001b[0m\u001b[01;32manscombe.json\u001b[0m*                creditcard.csv         \u001b[01;32mREADME.md\u001b[0m*\n",
            "california_housing_test.csv   mnist_test.csv\n",
            "california_housing_train.csv  mnist_train_small.csv\n"
          ],
          "name": "stdout"
        }
      ]
    },
    {
      "cell_type": "code",
      "metadata": {
        "id": "g8NpsoX0BsCT"
      },
      "source": [
        "card_dataset = pd.read_csv(\"creditcard.csv\",error_bad_lines=False,sep=',',engine='python',header=None)\n",
        "# Dataset is now stored in a Pandas Dataframe"
      ],
      "execution_count": null,
      "outputs": []
    },
    {
      "cell_type": "code",
      "metadata": {
        "id": "4EeYgIpgTono",
        "colab": {
          "base_uri": "https://localhost:8080/",
          "height": 224
        },
        "outputId": "7644e7ec-8296-40cb-fa8d-b09d35935a37"
      },
      "source": [
        "card_dataset.head()"
      ],
      "execution_count": null,
      "outputs": [
        {
          "output_type": "execute_result",
          "data": {
            "text/html": [
              "<div>\n",
              "<style scoped>\n",
              "    .dataframe tbody tr th:only-of-type {\n",
              "        vertical-align: middle;\n",
              "    }\n",
              "\n",
              "    .dataframe tbody tr th {\n",
              "        vertical-align: top;\n",
              "    }\n",
              "\n",
              "    .dataframe thead th {\n",
              "        text-align: right;\n",
              "    }\n",
              "</style>\n",
              "<table border=\"1\" class=\"dataframe\">\n",
              "  <thead>\n",
              "    <tr style=\"text-align: right;\">\n",
              "      <th></th>\n",
              "      <th>0</th>\n",
              "      <th>1</th>\n",
              "      <th>2</th>\n",
              "      <th>3</th>\n",
              "      <th>4</th>\n",
              "      <th>5</th>\n",
              "      <th>6</th>\n",
              "      <th>7</th>\n",
              "      <th>8</th>\n",
              "      <th>9</th>\n",
              "      <th>10</th>\n",
              "      <th>11</th>\n",
              "      <th>12</th>\n",
              "      <th>13</th>\n",
              "      <th>14</th>\n",
              "      <th>15</th>\n",
              "      <th>16</th>\n",
              "      <th>17</th>\n",
              "      <th>18</th>\n",
              "      <th>19</th>\n",
              "      <th>20</th>\n",
              "      <th>21</th>\n",
              "      <th>22</th>\n",
              "      <th>23</th>\n",
              "      <th>24</th>\n",
              "      <th>25</th>\n",
              "      <th>26</th>\n",
              "      <th>27</th>\n",
              "      <th>28</th>\n",
              "      <th>29</th>\n",
              "      <th>30</th>\n",
              "    </tr>\n",
              "  </thead>\n",
              "  <tbody>\n",
              "    <tr>\n",
              "      <th>0</th>\n",
              "      <td>Time</td>\n",
              "      <td>V1</td>\n",
              "      <td>V2</td>\n",
              "      <td>V3</td>\n",
              "      <td>V4</td>\n",
              "      <td>V5</td>\n",
              "      <td>V6</td>\n",
              "      <td>V7</td>\n",
              "      <td>V8</td>\n",
              "      <td>V9</td>\n",
              "      <td>V10</td>\n",
              "      <td>V11</td>\n",
              "      <td>V12</td>\n",
              "      <td>V13</td>\n",
              "      <td>V14</td>\n",
              "      <td>V15</td>\n",
              "      <td>V16</td>\n",
              "      <td>V17</td>\n",
              "      <td>V18</td>\n",
              "      <td>V19</td>\n",
              "      <td>V20</td>\n",
              "      <td>V21</td>\n",
              "      <td>V22</td>\n",
              "      <td>V23</td>\n",
              "      <td>V24</td>\n",
              "      <td>V25</td>\n",
              "      <td>V26</td>\n",
              "      <td>V27</td>\n",
              "      <td>V28</td>\n",
              "      <td>Amount</td>\n",
              "      <td>Class</td>\n",
              "    </tr>\n",
              "    <tr>\n",
              "      <th>1</th>\n",
              "      <td>0</td>\n",
              "      <td>-1.3598071336738</td>\n",
              "      <td>-0.0727811733098497</td>\n",
              "      <td>2.53634673796914</td>\n",
              "      <td>1.37815522427443</td>\n",
              "      <td>-0.338320769942518</td>\n",
              "      <td>0.462387777762292</td>\n",
              "      <td>0.239598554061257</td>\n",
              "      <td>0.0986979012610507</td>\n",
              "      <td>0.363786969611213</td>\n",
              "      <td>0.0907941719789316</td>\n",
              "      <td>-0.551599533260813</td>\n",
              "      <td>-0.617800855762348</td>\n",
              "      <td>-0.991389847235408</td>\n",
              "      <td>-0.311169353699879</td>\n",
              "      <td>1.46817697209427</td>\n",
              "      <td>-0.470400525259478</td>\n",
              "      <td>0.207971241929242</td>\n",
              "      <td>0.0257905801985591</td>\n",
              "      <td>0.403992960255733</td>\n",
              "      <td>0.251412098239705</td>\n",
              "      <td>-0.018306777944153</td>\n",
              "      <td>0.277837575558899</td>\n",
              "      <td>-0.110473910188767</td>\n",
              "      <td>0.0669280749146731</td>\n",
              "      <td>0.128539358273528</td>\n",
              "      <td>-0.189114843888824</td>\n",
              "      <td>0.133558376740387</td>\n",
              "      <td>-0.0210530534538215</td>\n",
              "      <td>149.62</td>\n",
              "      <td>0</td>\n",
              "    </tr>\n",
              "    <tr>\n",
              "      <th>2</th>\n",
              "      <td>0</td>\n",
              "      <td>1.19185711131486</td>\n",
              "      <td>0.26615071205963</td>\n",
              "      <td>0.16648011335321</td>\n",
              "      <td>0.448154078460911</td>\n",
              "      <td>0.0600176492822243</td>\n",
              "      <td>-0.0823608088155687</td>\n",
              "      <td>-0.0788029833323113</td>\n",
              "      <td>0.0851016549148104</td>\n",
              "      <td>-0.255425128109186</td>\n",
              "      <td>-0.166974414004614</td>\n",
              "      <td>1.61272666105479</td>\n",
              "      <td>1.06523531137287</td>\n",
              "      <td>0.48909501589608</td>\n",
              "      <td>-0.143772296441519</td>\n",
              "      <td>0.635558093258208</td>\n",
              "      <td>0.463917041022171</td>\n",
              "      <td>-0.114804663102346</td>\n",
              "      <td>-0.183361270123994</td>\n",
              "      <td>-0.145783041325259</td>\n",
              "      <td>-0.0690831352230203</td>\n",
              "      <td>-0.225775248033138</td>\n",
              "      <td>-0.638671952771851</td>\n",
              "      <td>0.101288021253234</td>\n",
              "      <td>-0.339846475529127</td>\n",
              "      <td>0.167170404418143</td>\n",
              "      <td>0.125894532368176</td>\n",
              "      <td>-0.00898309914322813</td>\n",
              "      <td>0.0147241691924927</td>\n",
              "      <td>2.69</td>\n",
              "      <td>0</td>\n",
              "    </tr>\n",
              "    <tr>\n",
              "      <th>3</th>\n",
              "      <td>1</td>\n",
              "      <td>-1.35835406159823</td>\n",
              "      <td>-1.34016307473609</td>\n",
              "      <td>1.77320934263119</td>\n",
              "      <td>0.379779593034328</td>\n",
              "      <td>-0.503198133318193</td>\n",
              "      <td>1.80049938079263</td>\n",
              "      <td>0.791460956450422</td>\n",
              "      <td>0.247675786588991</td>\n",
              "      <td>-1.51465432260583</td>\n",
              "      <td>0.207642865216696</td>\n",
              "      <td>0.624501459424895</td>\n",
              "      <td>0.066083685268831</td>\n",
              "      <td>0.717292731410831</td>\n",
              "      <td>-0.165945922763554</td>\n",
              "      <td>2.34586494901581</td>\n",
              "      <td>-2.89008319444231</td>\n",
              "      <td>1.10996937869599</td>\n",
              "      <td>-0.121359313195888</td>\n",
              "      <td>-2.26185709530414</td>\n",
              "      <td>0.524979725224404</td>\n",
              "      <td>0.247998153469754</td>\n",
              "      <td>0.771679401917229</td>\n",
              "      <td>0.909412262347719</td>\n",
              "      <td>-0.689280956490685</td>\n",
              "      <td>-0.327641833735251</td>\n",
              "      <td>-0.139096571514147</td>\n",
              "      <td>-0.0553527940384261</td>\n",
              "      <td>-0.0597518405929204</td>\n",
              "      <td>378.66</td>\n",
              "      <td>0</td>\n",
              "    </tr>\n",
              "    <tr>\n",
              "      <th>4</th>\n",
              "      <td>1</td>\n",
              "      <td>-0.966271711572087</td>\n",
              "      <td>-0.185226008082898</td>\n",
              "      <td>1.79299333957872</td>\n",
              "      <td>-0.863291275036453</td>\n",
              "      <td>-0.0103088796030823</td>\n",
              "      <td>1.24720316752486</td>\n",
              "      <td>0.23760893977178</td>\n",
              "      <td>0.377435874652262</td>\n",
              "      <td>-1.38702406270197</td>\n",
              "      <td>-0.0549519224713749</td>\n",
              "      <td>-0.226487263835401</td>\n",
              "      <td>0.178228225877303</td>\n",
              "      <td>0.507756869957169</td>\n",
              "      <td>-0.28792374549456</td>\n",
              "      <td>-0.631418117709045</td>\n",
              "      <td>-1.0596472454325</td>\n",
              "      <td>-0.684092786345479</td>\n",
              "      <td>1.96577500349538</td>\n",
              "      <td>-1.2326219700892</td>\n",
              "      <td>-0.208037781160366</td>\n",
              "      <td>-0.108300452035545</td>\n",
              "      <td>0.00527359678253453</td>\n",
              "      <td>-0.190320518742841</td>\n",
              "      <td>-1.17557533186321</td>\n",
              "      <td>0.647376034602038</td>\n",
              "      <td>-0.221928844458407</td>\n",
              "      <td>0.0627228487293033</td>\n",
              "      <td>0.0614576285006353</td>\n",
              "      <td>123.5</td>\n",
              "      <td>0</td>\n",
              "    </tr>\n",
              "  </tbody>\n",
              "</table>\n",
              "</div>"
            ],
            "text/plain": [
              "     0                   1   ...      29     30\n",
              "0  Time                  V1  ...  Amount  Class\n",
              "1     0    -1.3598071336738  ...  149.62      0\n",
              "2     0    1.19185711131486  ...    2.69      0\n",
              "3     1   -1.35835406159823  ...  378.66      0\n",
              "4     1  -0.966271711572087  ...   123.5      0\n",
              "\n",
              "[5 rows x 31 columns]"
            ]
          },
          "metadata": {
            "tags": []
          },
          "execution_count": 43
        }
      ]
    },
    {
      "cell_type": "code",
      "metadata": {
        "id": "BDiUTxS1Tyxc",
        "colab": {
          "base_uri": "https://localhost:8080/",
          "height": 193
        },
        "outputId": "1f4b6126-2a98-4cdc-f056-408825fd84cf"
      },
      "source": [
        "card_dataset.describe()"
      ],
      "execution_count": null,
      "outputs": [
        {
          "output_type": "execute_result",
          "data": {
            "text/html": [
              "<div>\n",
              "<style scoped>\n",
              "    .dataframe tbody tr th:only-of-type {\n",
              "        vertical-align: middle;\n",
              "    }\n",
              "\n",
              "    .dataframe tbody tr th {\n",
              "        vertical-align: top;\n",
              "    }\n",
              "\n",
              "    .dataframe thead th {\n",
              "        text-align: right;\n",
              "    }\n",
              "</style>\n",
              "<table border=\"1\" class=\"dataframe\">\n",
              "  <thead>\n",
              "    <tr style=\"text-align: right;\">\n",
              "      <th></th>\n",
              "      <th>0</th>\n",
              "      <th>1</th>\n",
              "      <th>2</th>\n",
              "      <th>3</th>\n",
              "      <th>4</th>\n",
              "      <th>5</th>\n",
              "      <th>6</th>\n",
              "      <th>7</th>\n",
              "      <th>8</th>\n",
              "      <th>9</th>\n",
              "      <th>10</th>\n",
              "      <th>11</th>\n",
              "      <th>12</th>\n",
              "      <th>13</th>\n",
              "      <th>14</th>\n",
              "      <th>15</th>\n",
              "      <th>16</th>\n",
              "      <th>17</th>\n",
              "      <th>18</th>\n",
              "      <th>19</th>\n",
              "      <th>20</th>\n",
              "      <th>21</th>\n",
              "      <th>22</th>\n",
              "      <th>23</th>\n",
              "      <th>24</th>\n",
              "      <th>25</th>\n",
              "      <th>26</th>\n",
              "      <th>27</th>\n",
              "      <th>28</th>\n",
              "      <th>29</th>\n",
              "      <th>30</th>\n",
              "    </tr>\n",
              "  </thead>\n",
              "  <tbody>\n",
              "    <tr>\n",
              "      <th>count</th>\n",
              "      <td>284808</td>\n",
              "      <td>284808</td>\n",
              "      <td>284808</td>\n",
              "      <td>284808</td>\n",
              "      <td>284808</td>\n",
              "      <td>284808</td>\n",
              "      <td>284808</td>\n",
              "      <td>284808</td>\n",
              "      <td>284808</td>\n",
              "      <td>284808</td>\n",
              "      <td>284808</td>\n",
              "      <td>284808</td>\n",
              "      <td>284808</td>\n",
              "      <td>284808</td>\n",
              "      <td>284808</td>\n",
              "      <td>284808</td>\n",
              "      <td>284808</td>\n",
              "      <td>284808</td>\n",
              "      <td>284808</td>\n",
              "      <td>284808</td>\n",
              "      <td>284808</td>\n",
              "      <td>284808</td>\n",
              "      <td>284808</td>\n",
              "      <td>284808</td>\n",
              "      <td>284808</td>\n",
              "      <td>284808</td>\n",
              "      <td>284808</td>\n",
              "      <td>284808</td>\n",
              "      <td>284808</td>\n",
              "      <td>284808</td>\n",
              "      <td>284808</td>\n",
              "    </tr>\n",
              "    <tr>\n",
              "      <th>unique</th>\n",
              "      <td>124593</td>\n",
              "      <td>275664</td>\n",
              "      <td>275664</td>\n",
              "      <td>275664</td>\n",
              "      <td>275664</td>\n",
              "      <td>275664</td>\n",
              "      <td>275664</td>\n",
              "      <td>275664</td>\n",
              "      <td>275664</td>\n",
              "      <td>275664</td>\n",
              "      <td>275664</td>\n",
              "      <td>275664</td>\n",
              "      <td>275664</td>\n",
              "      <td>275664</td>\n",
              "      <td>275664</td>\n",
              "      <td>275664</td>\n",
              "      <td>275664</td>\n",
              "      <td>275664</td>\n",
              "      <td>275664</td>\n",
              "      <td>275664</td>\n",
              "      <td>275664</td>\n",
              "      <td>275664</td>\n",
              "      <td>275664</td>\n",
              "      <td>275664</td>\n",
              "      <td>275664</td>\n",
              "      <td>275664</td>\n",
              "      <td>275664</td>\n",
              "      <td>275664</td>\n",
              "      <td>275664</td>\n",
              "      <td>32768</td>\n",
              "      <td>3</td>\n",
              "    </tr>\n",
              "    <tr>\n",
              "      <th>top</th>\n",
              "      <td>163152</td>\n",
              "      <td>1.24567381944824</td>\n",
              "      <td>-0.32666777306077</td>\n",
              "      <td>-2.75204095570008</td>\n",
              "      <td>-0.842316033286871</td>\n",
              "      <td>-0.562776680773863</td>\n",
              "      <td>3.17385642307029</td>\n",
              "      <td>0.0149526614685896</td>\n",
              "      <td>0.727706200727824</td>\n",
              "      <td>0.17036185217373</td>\n",
              "      <td>-0.0751861699398929</td>\n",
              "      <td>-0.35674901847752</td>\n",
              "      <td>0.350563573253678</td>\n",
              "      <td>-0.141238322200309</td>\n",
              "      <td>0.406968934383731</td>\n",
              "      <td>1.12414692288685</td>\n",
              "      <td>-0.371962125028419</td>\n",
              "      <td>-0.374656440051376</td>\n",
              "      <td>-0.438992432436683</td>\n",
              "      <td>-0.330590448442944</td>\n",
              "      <td>-0.180370118559693</td>\n",
              "      <td>0.269764951361357</td>\n",
              "      <td>0.844626646775712</td>\n",
              "      <td>0.140304302014326</td>\n",
              "      <td>0.726211883811499</td>\n",
              "      <td>0.366624307004913</td>\n",
              "      <td>-0.398827514959463</td>\n",
              "      <td>-0.035866315294695</td>\n",
              "      <td>-0.0602821510762213</td>\n",
              "      <td>1</td>\n",
              "      <td>0</td>\n",
              "    </tr>\n",
              "    <tr>\n",
              "      <th>freq</th>\n",
              "      <td>36</td>\n",
              "      <td>77</td>\n",
              "      <td>77</td>\n",
              "      <td>77</td>\n",
              "      <td>77</td>\n",
              "      <td>77</td>\n",
              "      <td>77</td>\n",
              "      <td>77</td>\n",
              "      <td>77</td>\n",
              "      <td>77</td>\n",
              "      <td>77</td>\n",
              "      <td>77</td>\n",
              "      <td>77</td>\n",
              "      <td>77</td>\n",
              "      <td>77</td>\n",
              "      <td>77</td>\n",
              "      <td>77</td>\n",
              "      <td>77</td>\n",
              "      <td>77</td>\n",
              "      <td>77</td>\n",
              "      <td>77</td>\n",
              "      <td>77</td>\n",
              "      <td>77</td>\n",
              "      <td>77</td>\n",
              "      <td>77</td>\n",
              "      <td>77</td>\n",
              "      <td>77</td>\n",
              "      <td>77</td>\n",
              "      <td>77</td>\n",
              "      <td>13688</td>\n",
              "      <td>284315</td>\n",
              "    </tr>\n",
              "  </tbody>\n",
              "</table>\n",
              "</div>"
            ],
            "text/plain": [
              "            0                 1   ...      29      30\n",
              "count   284808            284808  ...  284808  284808\n",
              "unique  124593            275664  ...   32768       3\n",
              "top     163152  1.24567381944824  ...       1       0\n",
              "freq        36                77  ...   13688  284315\n",
              "\n",
              "[4 rows x 31 columns]"
            ]
          },
          "metadata": {
            "tags": []
          },
          "execution_count": 44
        }
      ]
    },
    {
      "cell_type": "code",
      "metadata": {
        "id": "sVSMpT4pUDj1",
        "colab": {
          "base_uri": "https://localhost:8080/"
        },
        "outputId": "76a7a148-68ea-4964-a43b-c2b1dfff3d5a"
      },
      "source": [
        "card_dataset.info()"
      ],
      "execution_count": null,
      "outputs": [
        {
          "output_type": "stream",
          "text": [
            "<class 'pandas.core.frame.DataFrame'>\n",
            "RangeIndex: 284808 entries, 0 to 284807\n",
            "Data columns (total 31 columns):\n",
            " #   Column  Non-Null Count   Dtype \n",
            "---  ------  --------------   ----- \n",
            " 0   0       284808 non-null  object\n",
            " 1   1       284808 non-null  object\n",
            " 2   2       284808 non-null  object\n",
            " 3   3       284808 non-null  object\n",
            " 4   4       284808 non-null  object\n",
            " 5   5       284808 non-null  object\n",
            " 6   6       284808 non-null  object\n",
            " 7   7       284808 non-null  object\n",
            " 8   8       284808 non-null  object\n",
            " 9   9       284808 non-null  object\n",
            " 10  10      284808 non-null  object\n",
            " 11  11      284808 non-null  object\n",
            " 12  12      284808 non-null  object\n",
            " 13  13      284808 non-null  object\n",
            " 14  14      284808 non-null  object\n",
            " 15  15      284808 non-null  object\n",
            " 16  16      284808 non-null  object\n",
            " 17  17      284808 non-null  object\n",
            " 18  18      284808 non-null  object\n",
            " 19  19      284808 non-null  object\n",
            " 20  20      284808 non-null  object\n",
            " 21  21      284808 non-null  object\n",
            " 22  22      284808 non-null  object\n",
            " 23  23      284808 non-null  object\n",
            " 24  24      284808 non-null  object\n",
            " 25  25      284808 non-null  object\n",
            " 26  26      284808 non-null  object\n",
            " 27  27      284808 non-null  object\n",
            " 28  28      284808 non-null  object\n",
            " 29  29      284808 non-null  object\n",
            " 30  30      284808 non-null  object\n",
            "dtypes: object(31)\n",
            "memory usage: 67.4+ MB\n"
          ],
          "name": "stdout"
        }
      ]
    },
    {
      "cell_type": "code",
      "metadata": {
        "id": "ta_kyu34UgWU",
        "colab": {
          "base_uri": "https://localhost:8080/"
        },
        "outputId": "8dd6ca96-2cda-48b2-c41c-61dc81eb2475"
      },
      "source": [
        "card_dataset[30].unique()"
      ],
      "execution_count": null,
      "outputs": [
        {
          "output_type": "execute_result",
          "data": {
            "text/plain": [
              "array(['Class', '0', '1'], dtype=object)"
            ]
          },
          "metadata": {
            "tags": []
          },
          "execution_count": 46
        }
      ]
    },
    {
      "cell_type": "markdown",
      "metadata": {
        "id": "mAr5kBLHUxrC"
      },
      "source": [
        "Here, we can see that Class has value 0 and 1. It may say about Fraud. 1 is for fraud. "
      ]
    },
    {
      "cell_type": "code",
      "metadata": {
        "id": "eDSZDAb6hm1g"
      },
      "source": [
        "features=card_dataset.iloc[0,:]"
      ],
      "execution_count": null,
      "outputs": []
    },
    {
      "cell_type": "code",
      "metadata": {
        "id": "ush_k7tchtE8",
        "colab": {
          "base_uri": "https://localhost:8080/"
        },
        "outputId": "0148cfc3-ec2f-40a0-f6bb-f436d46966b6"
      },
      "source": [
        "features"
      ],
      "execution_count": null,
      "outputs": [
        {
          "output_type": "execute_result",
          "data": {
            "text/plain": [
              "0       Time\n",
              "1         V1\n",
              "2         V2\n",
              "3         V3\n",
              "4         V4\n",
              "5         V5\n",
              "6         V6\n",
              "7         V7\n",
              "8         V8\n",
              "9         V9\n",
              "10       V10\n",
              "11       V11\n",
              "12       V12\n",
              "13       V13\n",
              "14       V14\n",
              "15       V15\n",
              "16       V16\n",
              "17       V17\n",
              "18       V18\n",
              "19       V19\n",
              "20       V20\n",
              "21       V21\n",
              "22       V22\n",
              "23       V23\n",
              "24       V24\n",
              "25       V25\n",
              "26       V26\n",
              "27       V27\n",
              "28       V28\n",
              "29    Amount\n",
              "30     Class\n",
              "Name: 0, dtype: object"
            ]
          },
          "metadata": {
            "tags": []
          },
          "execution_count": 48
        }
      ]
    },
    {
      "cell_type": "code",
      "metadata": {
        "id": "WBJDhQt6f04D",
        "colab": {
          "base_uri": "https://localhost:8080/",
          "height": 224
        },
        "outputId": "db8586ca-e709-486a-c402-571077198922"
      },
      "source": [
        "card_dataset=card_dataset.iloc[1:,:]\n",
        "card_dataset.head()"
      ],
      "execution_count": null,
      "outputs": [
        {
          "output_type": "execute_result",
          "data": {
            "text/html": [
              "<div>\n",
              "<style scoped>\n",
              "    .dataframe tbody tr th:only-of-type {\n",
              "        vertical-align: middle;\n",
              "    }\n",
              "\n",
              "    .dataframe tbody tr th {\n",
              "        vertical-align: top;\n",
              "    }\n",
              "\n",
              "    .dataframe thead th {\n",
              "        text-align: right;\n",
              "    }\n",
              "</style>\n",
              "<table border=\"1\" class=\"dataframe\">\n",
              "  <thead>\n",
              "    <tr style=\"text-align: right;\">\n",
              "      <th></th>\n",
              "      <th>0</th>\n",
              "      <th>1</th>\n",
              "      <th>2</th>\n",
              "      <th>3</th>\n",
              "      <th>4</th>\n",
              "      <th>5</th>\n",
              "      <th>6</th>\n",
              "      <th>7</th>\n",
              "      <th>8</th>\n",
              "      <th>9</th>\n",
              "      <th>10</th>\n",
              "      <th>11</th>\n",
              "      <th>12</th>\n",
              "      <th>13</th>\n",
              "      <th>14</th>\n",
              "      <th>15</th>\n",
              "      <th>16</th>\n",
              "      <th>17</th>\n",
              "      <th>18</th>\n",
              "      <th>19</th>\n",
              "      <th>20</th>\n",
              "      <th>21</th>\n",
              "      <th>22</th>\n",
              "      <th>23</th>\n",
              "      <th>24</th>\n",
              "      <th>25</th>\n",
              "      <th>26</th>\n",
              "      <th>27</th>\n",
              "      <th>28</th>\n",
              "      <th>29</th>\n",
              "      <th>30</th>\n",
              "    </tr>\n",
              "  </thead>\n",
              "  <tbody>\n",
              "    <tr>\n",
              "      <th>1</th>\n",
              "      <td>0</td>\n",
              "      <td>-1.3598071336738</td>\n",
              "      <td>-0.0727811733098497</td>\n",
              "      <td>2.53634673796914</td>\n",
              "      <td>1.37815522427443</td>\n",
              "      <td>-0.338320769942518</td>\n",
              "      <td>0.462387777762292</td>\n",
              "      <td>0.239598554061257</td>\n",
              "      <td>0.0986979012610507</td>\n",
              "      <td>0.363786969611213</td>\n",
              "      <td>0.0907941719789316</td>\n",
              "      <td>-0.551599533260813</td>\n",
              "      <td>-0.617800855762348</td>\n",
              "      <td>-0.991389847235408</td>\n",
              "      <td>-0.311169353699879</td>\n",
              "      <td>1.46817697209427</td>\n",
              "      <td>-0.470400525259478</td>\n",
              "      <td>0.207971241929242</td>\n",
              "      <td>0.0257905801985591</td>\n",
              "      <td>0.403992960255733</td>\n",
              "      <td>0.251412098239705</td>\n",
              "      <td>-0.018306777944153</td>\n",
              "      <td>0.277837575558899</td>\n",
              "      <td>-0.110473910188767</td>\n",
              "      <td>0.0669280749146731</td>\n",
              "      <td>0.128539358273528</td>\n",
              "      <td>-0.189114843888824</td>\n",
              "      <td>0.133558376740387</td>\n",
              "      <td>-0.0210530534538215</td>\n",
              "      <td>149.62</td>\n",
              "      <td>0</td>\n",
              "    </tr>\n",
              "    <tr>\n",
              "      <th>2</th>\n",
              "      <td>0</td>\n",
              "      <td>1.19185711131486</td>\n",
              "      <td>0.26615071205963</td>\n",
              "      <td>0.16648011335321</td>\n",
              "      <td>0.448154078460911</td>\n",
              "      <td>0.0600176492822243</td>\n",
              "      <td>-0.0823608088155687</td>\n",
              "      <td>-0.0788029833323113</td>\n",
              "      <td>0.0851016549148104</td>\n",
              "      <td>-0.255425128109186</td>\n",
              "      <td>-0.166974414004614</td>\n",
              "      <td>1.61272666105479</td>\n",
              "      <td>1.06523531137287</td>\n",
              "      <td>0.48909501589608</td>\n",
              "      <td>-0.143772296441519</td>\n",
              "      <td>0.635558093258208</td>\n",
              "      <td>0.463917041022171</td>\n",
              "      <td>-0.114804663102346</td>\n",
              "      <td>-0.183361270123994</td>\n",
              "      <td>-0.145783041325259</td>\n",
              "      <td>-0.0690831352230203</td>\n",
              "      <td>-0.225775248033138</td>\n",
              "      <td>-0.638671952771851</td>\n",
              "      <td>0.101288021253234</td>\n",
              "      <td>-0.339846475529127</td>\n",
              "      <td>0.167170404418143</td>\n",
              "      <td>0.125894532368176</td>\n",
              "      <td>-0.00898309914322813</td>\n",
              "      <td>0.0147241691924927</td>\n",
              "      <td>2.69</td>\n",
              "      <td>0</td>\n",
              "    </tr>\n",
              "    <tr>\n",
              "      <th>3</th>\n",
              "      <td>1</td>\n",
              "      <td>-1.35835406159823</td>\n",
              "      <td>-1.34016307473609</td>\n",
              "      <td>1.77320934263119</td>\n",
              "      <td>0.379779593034328</td>\n",
              "      <td>-0.503198133318193</td>\n",
              "      <td>1.80049938079263</td>\n",
              "      <td>0.791460956450422</td>\n",
              "      <td>0.247675786588991</td>\n",
              "      <td>-1.51465432260583</td>\n",
              "      <td>0.207642865216696</td>\n",
              "      <td>0.624501459424895</td>\n",
              "      <td>0.066083685268831</td>\n",
              "      <td>0.717292731410831</td>\n",
              "      <td>-0.165945922763554</td>\n",
              "      <td>2.34586494901581</td>\n",
              "      <td>-2.89008319444231</td>\n",
              "      <td>1.10996937869599</td>\n",
              "      <td>-0.121359313195888</td>\n",
              "      <td>-2.26185709530414</td>\n",
              "      <td>0.524979725224404</td>\n",
              "      <td>0.247998153469754</td>\n",
              "      <td>0.771679401917229</td>\n",
              "      <td>0.909412262347719</td>\n",
              "      <td>-0.689280956490685</td>\n",
              "      <td>-0.327641833735251</td>\n",
              "      <td>-0.139096571514147</td>\n",
              "      <td>-0.0553527940384261</td>\n",
              "      <td>-0.0597518405929204</td>\n",
              "      <td>378.66</td>\n",
              "      <td>0</td>\n",
              "    </tr>\n",
              "    <tr>\n",
              "      <th>4</th>\n",
              "      <td>1</td>\n",
              "      <td>-0.966271711572087</td>\n",
              "      <td>-0.185226008082898</td>\n",
              "      <td>1.79299333957872</td>\n",
              "      <td>-0.863291275036453</td>\n",
              "      <td>-0.0103088796030823</td>\n",
              "      <td>1.24720316752486</td>\n",
              "      <td>0.23760893977178</td>\n",
              "      <td>0.377435874652262</td>\n",
              "      <td>-1.38702406270197</td>\n",
              "      <td>-0.0549519224713749</td>\n",
              "      <td>-0.226487263835401</td>\n",
              "      <td>0.178228225877303</td>\n",
              "      <td>0.507756869957169</td>\n",
              "      <td>-0.28792374549456</td>\n",
              "      <td>-0.631418117709045</td>\n",
              "      <td>-1.0596472454325</td>\n",
              "      <td>-0.684092786345479</td>\n",
              "      <td>1.96577500349538</td>\n",
              "      <td>-1.2326219700892</td>\n",
              "      <td>-0.208037781160366</td>\n",
              "      <td>-0.108300452035545</td>\n",
              "      <td>0.00527359678253453</td>\n",
              "      <td>-0.190320518742841</td>\n",
              "      <td>-1.17557533186321</td>\n",
              "      <td>0.647376034602038</td>\n",
              "      <td>-0.221928844458407</td>\n",
              "      <td>0.0627228487293033</td>\n",
              "      <td>0.0614576285006353</td>\n",
              "      <td>123.5</td>\n",
              "      <td>0</td>\n",
              "    </tr>\n",
              "    <tr>\n",
              "      <th>5</th>\n",
              "      <td>2</td>\n",
              "      <td>-1.15823309349523</td>\n",
              "      <td>0.877736754848451</td>\n",
              "      <td>1.548717846511</td>\n",
              "      <td>0.403033933955121</td>\n",
              "      <td>-0.407193377311653</td>\n",
              "      <td>0.0959214624684256</td>\n",
              "      <td>0.592940745385545</td>\n",
              "      <td>-0.270532677192282</td>\n",
              "      <td>0.817739308235294</td>\n",
              "      <td>0.753074431976354</td>\n",
              "      <td>-0.822842877946363</td>\n",
              "      <td>0.53819555014995</td>\n",
              "      <td>1.3458515932154</td>\n",
              "      <td>-1.11966983471731</td>\n",
              "      <td>0.175121130008994</td>\n",
              "      <td>-0.451449182813529</td>\n",
              "      <td>-0.237033239362776</td>\n",
              "      <td>-0.0381947870352842</td>\n",
              "      <td>0.803486924960175</td>\n",
              "      <td>0.408542360392758</td>\n",
              "      <td>-0.00943069713232919</td>\n",
              "      <td>0.79827849458971</td>\n",
              "      <td>-0.137458079619063</td>\n",
              "      <td>0.141266983824769</td>\n",
              "      <td>-0.206009587619756</td>\n",
              "      <td>0.502292224181569</td>\n",
              "      <td>0.219422229513348</td>\n",
              "      <td>0.215153147499206</td>\n",
              "      <td>69.99</td>\n",
              "      <td>0</td>\n",
              "    </tr>\n",
              "  </tbody>\n",
              "</table>\n",
              "</div>"
            ],
            "text/plain": [
              "  0                   1                    2   ...                   28      29 30\n",
              "1  0    -1.3598071336738  -0.0727811733098497  ...  -0.0210530534538215  149.62  0\n",
              "2  0    1.19185711131486     0.26615071205963  ...   0.0147241691924927    2.69  0\n",
              "3  1   -1.35835406159823    -1.34016307473609  ...  -0.0597518405929204  378.66  0\n",
              "4  1  -0.966271711572087   -0.185226008082898  ...   0.0614576285006353   123.5  0\n",
              "5  2   -1.15823309349523    0.877736754848451  ...    0.215153147499206   69.99  0\n",
              "\n",
              "[5 rows x 31 columns]"
            ]
          },
          "metadata": {
            "tags": []
          },
          "execution_count": 49
        }
      ]
    },
    {
      "cell_type": "code",
      "metadata": {
        "id": "gGzko5eqa3Pn"
      },
      "source": [
        "# for i in range(1,30):\n",
        "#   card_dataset[i]=card_dataset[i].astype(float)\n",
        "\n",
        "# for i in range(1,30):\n",
        "#   card_dataset[i]=card_dataset[i].convert_objects(convert_numeric=True)\n",
        "\n",
        "for i in range(0,30):\n",
        "  card_dataset[i]=pd.to_numeric(card_dataset[i]) "
      ],
      "execution_count": null,
      "outputs": []
    },
    {
      "cell_type": "code",
      "metadata": {
        "id": "6eC_mK5TcitM",
        "colab": {
          "base_uri": "https://localhost:8080/"
        },
        "outputId": "b85e9995-abbe-44d7-bf31-dddca7edf2e0"
      },
      "source": [
        "card_dataset.dtypes"
      ],
      "execution_count": null,
      "outputs": [
        {
          "output_type": "execute_result",
          "data": {
            "text/plain": [
              "0     float64\n",
              "1     float64\n",
              "2     float64\n",
              "3     float64\n",
              "4     float64\n",
              "5     float64\n",
              "6     float64\n",
              "7     float64\n",
              "8     float64\n",
              "9     float64\n",
              "10    float64\n",
              "11    float64\n",
              "12    float64\n",
              "13    float64\n",
              "14    float64\n",
              "15    float64\n",
              "16    float64\n",
              "17    float64\n",
              "18    float64\n",
              "19    float64\n",
              "20    float64\n",
              "21    float64\n",
              "22    float64\n",
              "23    float64\n",
              "24    float64\n",
              "25    float64\n",
              "26    float64\n",
              "27    float64\n",
              "28    float64\n",
              "29    float64\n",
              "30     object\n",
              "dtype: object"
            ]
          },
          "metadata": {
            "tags": []
          },
          "execution_count": 51
        }
      ]
    },
    {
      "cell_type": "code",
      "metadata": {
        "id": "ECIJoEYph55p",
        "colab": {
          "base_uri": "https://localhost:8080/"
        },
        "outputId": "cdb4caa8-b964-4e9e-871c-e3e2ec4911e6"
      },
      "source": [
        "#lets see range\n",
        "for i in range(30):\n",
        "  print(features[i],end=\" \")\n",
        "  print(card_dataset.iloc[:,i].min(),end=\" \")\n",
        "  print(card_dataset.iloc[:,i].max())"
      ],
      "execution_count": null,
      "outputs": [
        {
          "output_type": "stream",
          "text": [
            "Time 0.0 172792.0\n",
            "V1 -56.407509631329 2.45492999121121\n",
            "V2 -72.7157275629303 22.0577289904909\n",
            "V3 -48.3255893623954 9.38255843282114\n",
            "V4 -5.68317119816995 16.8753440335975\n",
            "V5 -113.74330671114599 34.8016658766686\n",
            "V6 -26.1605059358433 73.3016255459646\n",
            "V7 -43.5572415712451 120.589493945238\n",
            "V8 -73.21671845526741 20.0072083651213\n",
            "V9 -13.4340663182301 15.5949946071278\n",
            "V10 -24.5882624372475 23.7451361206545\n",
            "V11 -4.79747346479757 12.018913181619899\n",
            "V12 -18.683714633344298 7.8483920756445995\n",
            "V13 -5.7918812063208405 7.126882958593759\n",
            "V14 -19.2143254902614 10.5267660517847\n",
            "V15 -4.49894467676621 8.87774159774277\n",
            "V16 -14.1298545174931 17.315111517627802\n",
            "V17 -25.162799369324798 9.25352625047285\n",
            "V18 -9.498745921046769 5.04106918541184\n",
            "V19 -7.21352743017759 5.59197142733558\n",
            "V20 -54.497720494566 39.4209042482199\n",
            "V21 -34.8303821448146 27.2028391573154\n",
            "V22 -10.933143697655 10.5030900899454\n",
            "V23 -44.807735203791296 22.5284116897749\n",
            "V24 -2.83662691870341 4.58454913689817\n",
            "V25 -10.2953970749851 7.51958867870916\n",
            "V26 -2.60455055280817 3.5173456116237998\n",
            "V27 -22.5656793207827 31.612198106136304\n",
            "V28 -15.430083905534898 33.8478078188831\n",
            "Amount 0.0 25691.16\n"
          ],
          "name": "stdout"
        }
      ]
    },
    {
      "cell_type": "code",
      "metadata": {
        "id": "UdOvSfQjXA3-"
      },
      "source": [
        "from sklearn.model_selection import train_test_split\n",
        "\n",
        "input_train,input_test,output_train,output_test=train_test_split(card_dataset.iloc[:,0:30],card_dataset.iloc[:,30:31],random_state=42)"
      ],
      "execution_count": null,
      "outputs": []
    },
    {
      "cell_type": "code",
      "metadata": {
        "id": "-LohGQYWXj37",
        "colab": {
          "base_uri": "https://localhost:8080/"
        },
        "outputId": "550cdd08-9275-4136-9fb8-50bd35eafd51"
      },
      "source": [
        "input_train.shape"
      ],
      "execution_count": null,
      "outputs": [
        {
          "output_type": "execute_result",
          "data": {
            "text/plain": [
              "(213605, 30)"
            ]
          },
          "metadata": {
            "tags": []
          },
          "execution_count": 56
        }
      ]
    },
    {
      "cell_type": "code",
      "metadata": {
        "id": "g4iwLXg4XnrM",
        "colab": {
          "base_uri": "https://localhost:8080/"
        },
        "outputId": "6d05631d-2255-429d-cd3f-23decf83a99b"
      },
      "source": [
        "input_test.shape"
      ],
      "execution_count": null,
      "outputs": [
        {
          "output_type": "execute_result",
          "data": {
            "text/plain": [
              "(71202, 30)"
            ]
          },
          "metadata": {
            "tags": []
          },
          "execution_count": 57
        }
      ]
    },
    {
      "cell_type": "code",
      "metadata": {
        "id": "DSCRHN2EXr0i",
        "colab": {
          "base_uri": "https://localhost:8080/"
        },
        "outputId": "66e0ba2e-d752-42ab-fd9f-4ce07426b6c2"
      },
      "source": [
        "output_train.shape"
      ],
      "execution_count": null,
      "outputs": [
        {
          "output_type": "execute_result",
          "data": {
            "text/plain": [
              "(213605, 1)"
            ]
          },
          "metadata": {
            "tags": []
          },
          "execution_count": 58
        }
      ]
    },
    {
      "cell_type": "code",
      "metadata": {
        "id": "tAZDm2aQX0ym",
        "colab": {
          "base_uri": "https://localhost:8080/"
        },
        "outputId": "ddeadb2c-127b-4d13-ef51-44fd8943c24f"
      },
      "source": [
        "output_test.shape"
      ],
      "execution_count": null,
      "outputs": [
        {
          "output_type": "execute_result",
          "data": {
            "text/plain": [
              "(71202, 1)"
            ]
          },
          "metadata": {
            "tags": []
          },
          "execution_count": 59
        }
      ]
    },
    {
      "cell_type": "code",
      "metadata": {
        "id": "Za0OVjKMXvq_",
        "colab": {
          "base_uri": "https://localhost:8080/",
          "height": 224
        },
        "outputId": "d7e9235d-34d4-457e-e15e-e1010c31d53d"
      },
      "source": [
        "input_train.head()"
      ],
      "execution_count": null,
      "outputs": [
        {
          "output_type": "execute_result",
          "data": {
            "text/html": [
              "<div>\n",
              "<style scoped>\n",
              "    .dataframe tbody tr th:only-of-type {\n",
              "        vertical-align: middle;\n",
              "    }\n",
              "\n",
              "    .dataframe tbody tr th {\n",
              "        vertical-align: top;\n",
              "    }\n",
              "\n",
              "    .dataframe thead th {\n",
              "        text-align: right;\n",
              "    }\n",
              "</style>\n",
              "<table border=\"1\" class=\"dataframe\">\n",
              "  <thead>\n",
              "    <tr style=\"text-align: right;\">\n",
              "      <th></th>\n",
              "      <th>0</th>\n",
              "      <th>1</th>\n",
              "      <th>2</th>\n",
              "      <th>3</th>\n",
              "      <th>4</th>\n",
              "      <th>5</th>\n",
              "      <th>6</th>\n",
              "      <th>7</th>\n",
              "      <th>8</th>\n",
              "      <th>9</th>\n",
              "      <th>10</th>\n",
              "      <th>11</th>\n",
              "      <th>12</th>\n",
              "      <th>13</th>\n",
              "      <th>14</th>\n",
              "      <th>15</th>\n",
              "      <th>16</th>\n",
              "      <th>17</th>\n",
              "      <th>18</th>\n",
              "      <th>19</th>\n",
              "      <th>20</th>\n",
              "      <th>21</th>\n",
              "      <th>22</th>\n",
              "      <th>23</th>\n",
              "      <th>24</th>\n",
              "      <th>25</th>\n",
              "      <th>26</th>\n",
              "      <th>27</th>\n",
              "      <th>28</th>\n",
              "      <th>29</th>\n",
              "    </tr>\n",
              "  </thead>\n",
              "  <tbody>\n",
              "    <tr>\n",
              "      <th>83226</th>\n",
              "      <td>59741.0</td>\n",
              "      <td>-1.648591</td>\n",
              "      <td>1.228130</td>\n",
              "      <td>1.370169</td>\n",
              "      <td>-1.735542</td>\n",
              "      <td>-0.029455</td>\n",
              "      <td>-0.484129</td>\n",
              "      <td>0.918645</td>\n",
              "      <td>-0.438750</td>\n",
              "      <td>0.982144</td>\n",
              "      <td>1.241635</td>\n",
              "      <td>1.105624</td>\n",
              "      <td>0.058367</td>\n",
              "      <td>-0.659961</td>\n",
              "      <td>-0.535813</td>\n",
              "      <td>0.047201</td>\n",
              "      <td>0.664548</td>\n",
              "      <td>-1.280961</td>\n",
              "      <td>0.184568</td>\n",
              "      <td>-0.331603</td>\n",
              "      <td>0.384201</td>\n",
              "      <td>-0.218076</td>\n",
              "      <td>-0.203458</td>\n",
              "      <td>-0.213015</td>\n",
              "      <td>0.011372</td>\n",
              "      <td>-0.304481</td>\n",
              "      <td>0.632063</td>\n",
              "      <td>-0.262968</td>\n",
              "      <td>-0.099863</td>\n",
              "      <td>38.42</td>\n",
              "    </tr>\n",
              "    <tr>\n",
              "      <th>52801</th>\n",
              "      <td>45648.0</td>\n",
              "      <td>-0.234775</td>\n",
              "      <td>-0.493269</td>\n",
              "      <td>1.236728</td>\n",
              "      <td>-2.338793</td>\n",
              "      <td>-1.176733</td>\n",
              "      <td>0.885733</td>\n",
              "      <td>-1.960981</td>\n",
              "      <td>-2.363412</td>\n",
              "      <td>-2.694774</td>\n",
              "      <td>0.360215</td>\n",
              "      <td>1.615495</td>\n",
              "      <td>0.447752</td>\n",
              "      <td>0.605692</td>\n",
              "      <td>0.169591</td>\n",
              "      <td>-0.073655</td>\n",
              "      <td>-0.163459</td>\n",
              "      <td>0.562423</td>\n",
              "      <td>-0.577032</td>\n",
              "      <td>-1.635634</td>\n",
              "      <td>0.364679</td>\n",
              "      <td>-1.495358</td>\n",
              "      <td>-0.083066</td>\n",
              "      <td>0.074612</td>\n",
              "      <td>-0.347329</td>\n",
              "      <td>0.541900</td>\n",
              "      <td>-0.433294</td>\n",
              "      <td>0.089293</td>\n",
              "      <td>0.212029</td>\n",
              "      <td>61.20</td>\n",
              "    </tr>\n",
              "    <tr>\n",
              "      <th>21294</th>\n",
              "      <td>31579.0</td>\n",
              "      <td>1.134626</td>\n",
              "      <td>-0.774460</td>\n",
              "      <td>-0.163390</td>\n",
              "      <td>-0.533358</td>\n",
              "      <td>-0.604555</td>\n",
              "      <td>-0.244482</td>\n",
              "      <td>-0.212682</td>\n",
              "      <td>0.040782</td>\n",
              "      <td>-1.136627</td>\n",
              "      <td>0.792009</td>\n",
              "      <td>0.961637</td>\n",
              "      <td>-0.140033</td>\n",
              "      <td>-1.253762</td>\n",
              "      <td>0.835103</td>\n",
              "      <td>0.458756</td>\n",
              "      <td>-1.371503</td>\n",
              "      <td>0.020165</td>\n",
              "      <td>0.796223</td>\n",
              "      <td>-0.519459</td>\n",
              "      <td>-0.396476</td>\n",
              "      <td>-0.684454</td>\n",
              "      <td>-1.855269</td>\n",
              "      <td>0.171997</td>\n",
              "      <td>-0.387783</td>\n",
              "      <td>-0.062985</td>\n",
              "      <td>0.245118</td>\n",
              "      <td>-0.061178</td>\n",
              "      <td>0.012180</td>\n",
              "      <td>110.95</td>\n",
              "    </tr>\n",
              "    <tr>\n",
              "      <th>133601</th>\n",
              "      <td>80455.0</td>\n",
              "      <td>0.069514</td>\n",
              "      <td>1.017753</td>\n",
              "      <td>1.033117</td>\n",
              "      <td>1.384376</td>\n",
              "      <td>0.223233</td>\n",
              "      <td>-0.310845</td>\n",
              "      <td>0.597287</td>\n",
              "      <td>-0.127658</td>\n",
              "      <td>-0.701533</td>\n",
              "      <td>0.070739</td>\n",
              "      <td>-0.857263</td>\n",
              "      <td>-0.290899</td>\n",
              "      <td>0.289337</td>\n",
              "      <td>0.333125</td>\n",
              "      <td>1.643182</td>\n",
              "      <td>-0.507737</td>\n",
              "      <td>-0.024208</td>\n",
              "      <td>0.371960</td>\n",
              "      <td>1.561447</td>\n",
              "      <td>0.148760</td>\n",
              "      <td>0.097023</td>\n",
              "      <td>0.369957</td>\n",
              "      <td>-0.219266</td>\n",
              "      <td>-0.124941</td>\n",
              "      <td>-0.049749</td>\n",
              "      <td>-0.112946</td>\n",
              "      <td>0.114440</td>\n",
              "      <td>0.066101</td>\n",
              "      <td>10.00</td>\n",
              "    </tr>\n",
              "    <tr>\n",
              "      <th>38226</th>\n",
              "      <td>39302.0</td>\n",
              "      <td>-0.199441</td>\n",
              "      <td>0.610092</td>\n",
              "      <td>-0.114437</td>\n",
              "      <td>0.256565</td>\n",
              "      <td>2.290752</td>\n",
              "      <td>4.008475</td>\n",
              "      <td>-0.123530</td>\n",
              "      <td>1.038374</td>\n",
              "      <td>-0.075846</td>\n",
              "      <td>0.030453</td>\n",
              "      <td>-0.756030</td>\n",
              "      <td>-0.045165</td>\n",
              "      <td>-0.180180</td>\n",
              "      <td>-0.048168</td>\n",
              "      <td>-0.004486</td>\n",
              "      <td>-0.541172</td>\n",
              "      <td>-0.174950</td>\n",
              "      <td>0.355749</td>\n",
              "      <td>1.375281</td>\n",
              "      <td>0.292972</td>\n",
              "      <td>-0.019733</td>\n",
              "      <td>0.165463</td>\n",
              "      <td>-0.080978</td>\n",
              "      <td>1.020656</td>\n",
              "      <td>-0.300730</td>\n",
              "      <td>-0.269595</td>\n",
              "      <td>0.481769</td>\n",
              "      <td>0.254114</td>\n",
              "      <td>22.00</td>\n",
              "    </tr>\n",
              "  </tbody>\n",
              "</table>\n",
              "</div>"
            ],
            "text/plain": [
              "             0         1         2   ...        27        28      29\n",
              "83226   59741.0 -1.648591  1.228130  ... -0.262968 -0.099863   38.42\n",
              "52801   45648.0 -0.234775 -0.493269  ...  0.089293  0.212029   61.20\n",
              "21294   31579.0  1.134626 -0.774460  ... -0.061178  0.012180  110.95\n",
              "133601  80455.0  0.069514  1.017753  ...  0.114440  0.066101   10.00\n",
              "38226   39302.0 -0.199441  0.610092  ...  0.481769  0.254114   22.00\n",
              "\n",
              "[5 rows x 30 columns]"
            ]
          },
          "metadata": {
            "tags": []
          },
          "execution_count": 60
        }
      ]
    },
    {
      "cell_type": "code",
      "metadata": {
        "id": "DpmcYEnuA8Wt",
        "colab": {
          "base_uri": "https://localhost:8080/"
        },
        "outputId": "1882c5b1-6aaa-4be5-86f3-baa421fa8978"
      },
      "source": [
        "from sklearn.linear_model import LogisticRegression\n",
        "\n",
        "lr=LogisticRegression()\n",
        "lr.fit(input_train,output_train)\n",
        "print(\"Training data Accuracy:%.3f\"%lr.score(input_train,output_train))\n",
        "print(\"Testing data Accuracy:%.3f\"%lr.score(input_test,output_test))"
      ],
      "execution_count": null,
      "outputs": [
        {
          "output_type": "stream",
          "text": [
            "/usr/local/lib/python3.6/dist-packages/sklearn/utils/validation.py:760: DataConversionWarning: A column-vector y was passed when a 1d array was expected. Please change the shape of y to (n_samples, ), for example using ravel().\n",
            "  y = column_or_1d(y, warn=True)\n",
            "/usr/local/lib/python3.6/dist-packages/sklearn/linear_model/_logistic.py:940: ConvergenceWarning: lbfgs failed to converge (status=1):\n",
            "STOP: TOTAL NO. of ITERATIONS REACHED LIMIT.\n",
            "\n",
            "Increase the number of iterations (max_iter) or scale the data as shown in:\n",
            "    https://scikit-learn.org/stable/modules/preprocessing.html\n",
            "Please also refer to the documentation for alternative solver options:\n",
            "    https://scikit-learn.org/stable/modules/linear_model.html#logistic-regression\n",
            "  extra_warning_msg=_LOGISTIC_SOLVER_CONVERGENCE_MSG)\n"
          ],
          "name": "stderr"
        },
        {
          "output_type": "stream",
          "text": [
            "Training data Accuracy:0.999\n",
            "Testing data Accuracy:0.999\n"
          ],
          "name": "stdout"
        }
      ]
    },
    {
      "cell_type": "markdown",
      "metadata": {
        "id": "8O5XUhYejyBU"
      },
      "source": [
        "As we can see we need to scale our data"
      ]
    },
    {
      "cell_type": "code",
      "metadata": {
        "id": "7Z0cUF4qju5m",
        "colab": {
          "base_uri": "https://localhost:8080/"
        },
        "outputId": "fd199a80-9719-4ea6-b5c9-f5a11338b783"
      },
      "source": [
        "from sklearn.preprocessing import MinMaxScaler\n",
        "\n",
        "scaler=MinMaxScaler()\n",
        "scaler.fit(input_train)\n"
      ],
      "execution_count": null,
      "outputs": [
        {
          "output_type": "execute_result",
          "data": {
            "text/plain": [
              "MinMaxScaler(copy=True, feature_range=(0, 1))"
            ]
          },
          "metadata": {
            "tags": []
          },
          "execution_count": 62
        }
      ]
    },
    {
      "cell_type": "code",
      "metadata": {
        "id": "VbQAUcKdkexz"
      },
      "source": [
        "input_train_scaled=scaler.transform(input_train)\n",
        "input_test_scaled=scaler.transform(input_test)"
      ],
      "execution_count": null,
      "outputs": []
    },
    {
      "cell_type": "code",
      "metadata": {
        "id": "6qonpsMUkpUn",
        "colab": {
          "base_uri": "https://localhost:8080/"
        },
        "outputId": "e1cba1ec-7496-4510-98bb-52738177d056"
      },
      "source": [
        "lr.fit(input_train_scaled,output_train)\n",
        "print(\"Training data Accuracy:%.3f\"%lr.score(input_train_scaled,output_train))\n",
        "print(\"Testing data Accuracy:%.3f\"%lr.score(input_test_scaled,output_test))"
      ],
      "execution_count": null,
      "outputs": [
        {
          "output_type": "stream",
          "text": [
            "/usr/local/lib/python3.6/dist-packages/sklearn/utils/validation.py:760: DataConversionWarning: A column-vector y was passed when a 1d array was expected. Please change the shape of y to (n_samples, ), for example using ravel().\n",
            "  y = column_or_1d(y, warn=True)\n"
          ],
          "name": "stderr"
        },
        {
          "output_type": "stream",
          "text": [
            "Training data Accuracy:0.999\n",
            "Testing data Accuracy:0.999\n"
          ],
          "name": "stdout"
        }
      ]
    },
    {
      "cell_type": "code",
      "metadata": {
        "id": "vUXL_pn0oA98"
      },
      "source": [
        "ouput_test_predicted=lr.predict(input_test_scaled)"
      ],
      "execution_count": null,
      "outputs": []
    },
    {
      "cell_type": "code",
      "metadata": {
        "id": "1CeSYFoem6BO",
        "colab": {
          "base_uri": "https://localhost:8080/"
        },
        "outputId": "0f0abdee-e5d6-4954-faf8-828bb9b362af"
      },
      "source": [
        "from sklearn.metrics import confusion_matrix\n",
        "confusion_matrix(output_test, ouput_test_predicted)"
      ],
      "execution_count": null,
      "outputs": [
        {
          "output_type": "execute_result",
          "data": {
            "text/plain": [
              "array([[71076,    13],\n",
              "       [   54,    59]])"
            ]
          },
          "metadata": {
            "tags": []
          },
          "execution_count": 71
        }
      ]
    },
    {
      "cell_type": "markdown",
      "metadata": {
        "id": "N9XGr-YkoSkm"
      },
      "source": [
        "Precision\n",
        "= true positive/ (true positive+false positive)\n"
      ]
    },
    {
      "cell_type": "code",
      "metadata": {
        "id": "JaAgIUMkok-8",
        "colab": {
          "base_uri": "https://localhost:8080/"
        },
        "outputId": "31cb039b-3feb-4cdf-f8d7-56ccacd2ce1e"
      },
      "source": [
        "71076/(71076+54)"
      ],
      "execution_count": null,
      "outputs": [
        {
          "output_type": "execute_result",
          "data": {
            "text/plain": [
              "0.9992408266554197"
            ]
          },
          "metadata": {
            "tags": []
          },
          "execution_count": 72
        }
      ]
    },
    {
      "cell_type": "markdown",
      "metadata": {
        "id": "_LSUGfxgpp5M"
      },
      "source": [
        "here Precision is 1.\n"
      ]
    },
    {
      "cell_type": "markdown",
      "metadata": {
        "id": "-vEEnv9CpvpQ"
      },
      "source": [
        "Recall= true positive/(true positive+ false negative)\n",
        "\n"
      ]
    },
    {
      "cell_type": "code",
      "metadata": {
        "id": "gUBeJyAKppFX",
        "colab": {
          "base_uri": "https://localhost:8080/"
        },
        "outputId": "52f57491-ba47-43f9-dcf7-a5dde6bf2959"
      },
      "source": [
        "71076/(71076+13)"
      ],
      "execution_count": null,
      "outputs": [
        {
          "output_type": "execute_result",
          "data": {
            "text/plain": [
              "0.9998171306390581"
            ]
          },
          "metadata": {
            "tags": []
          },
          "execution_count": 75
        }
      ]
    },
    {
      "cell_type": "markdown",
      "metadata": {
        "id": "H04UCyDFt5Lv"
      },
      "source": [
        "Here we can see our model is predicting correct for authentic transcation, as precision and recall are 1."
      ]
    },
    {
      "cell_type": "code",
      "metadata": {
        "id": "jRAJoC1poq09",
        "colab": {
          "base_uri": "https://localhost:8080/"
        },
        "outputId": "e9f65dc7-3128-442d-d618-11cb24f7dbb8"
      },
      "source": [
        "from sklearn.metrics import classification_report\n",
        "print(classification_report(output_test, ouput_test_predicted,\n",
        "target_names=[\"not fraud\", \"fraud\"]))"
      ],
      "execution_count": null,
      "outputs": [
        {
          "output_type": "stream",
          "text": [
            "              precision    recall  f1-score   support\n",
            "\n",
            "   not fraud       1.00      1.00      1.00     71089\n",
            "       fraud       0.82      0.52      0.64       113\n",
            "\n",
            "    accuracy                           1.00     71202\n",
            "   macro avg       0.91      0.76      0.82     71202\n",
            "weighted avg       1.00      1.00      1.00     71202\n",
            "\n"
          ],
          "name": "stdout"
        }
      ]
    },
    {
      "cell_type": "markdown",
      "metadata": {
        "id": "u2704GQ1ukZ5"
      },
      "source": [
        "still for fraud transcation, recall is less."
      ]
    },
    {
      "cell_type": "markdown",
      "metadata": {
        "id": "oM795QCUutcE"
      },
      "source": [
        "As we get a fairly small recall, the classifier focuses on getting \"non fraud\" right, and not the \"fraud\" class."
      ]
    },
    {
      "cell_type": "code",
      "metadata": {
        "id": "pdZZbWhTz4bH",
        "colab": {
          "base_uri": "https://localhost:8080/"
        },
        "outputId": "187f89ca-cf48-43ea-d10a-a0d99433f7e5"
      },
      "source": [
        "from imblearn.under_sampling import RandomUnderSampler\n",
        "rus = RandomUnderSampler()\n",
        "input_train_rus, output_train_rus = rus.fit_sample(input_train_scaled, output_train)\n",
        "\n",
        "# check the balanced data\n",
        "# print(pd.Series(output_rus).value_counts())\n"
      ],
      "execution_count": null,
      "outputs": [
        {
          "output_type": "stream",
          "text": [
            "/usr/local/lib/python3.6/dist-packages/sklearn/utils/deprecation.py:87: FutureWarning: Function safe_indexing is deprecated; safe_indexing is deprecated in version 0.22 and will be removed in version 0.24.\n",
            "  warnings.warn(msg, category=FutureWarning)\n"
          ],
          "name": "stderr"
        }
      ]
    },
    {
      "cell_type": "code",
      "metadata": {
        "id": "yZZwBWOQ3QF0",
        "colab": {
          "base_uri": "https://localhost:8080/"
        },
        "outputId": "bae91be1-b231-47ca-f34f-a6de778b972c"
      },
      "source": [
        "print(\"before:\",input_train_scaled.shape)\n",
        "print(\"after:\",input_train_rus.shape)\n"
      ],
      "execution_count": null,
      "outputs": [
        {
          "output_type": "stream",
          "text": [
            "before: (213605, 30)\n",
            "after: (758, 30)\n"
          ],
          "name": "stdout"
        }
      ]
    },
    {
      "cell_type": "code",
      "metadata": {
        "id": "rV9Wc-YP4Tv0"
      },
      "source": [
        "c_1=0\n",
        "c_0=0\n",
        "for i in range(758):\n",
        "  if(output_train_rus[i]=='1'):\n",
        "    c_1+=1\n",
        "  else:\n",
        "    c_0+=1"
      ],
      "execution_count": null,
      "outputs": []
    },
    {
      "cell_type": "code",
      "metadata": {
        "id": "5_k4qqrP4l5F",
        "colab": {
          "base_uri": "https://localhost:8080/"
        },
        "outputId": "44b277fb-ba9d-45a9-93c0-71a2e7a3160b"
      },
      "source": [
        "print(c_0)"
      ],
      "execution_count": null,
      "outputs": [
        {
          "output_type": "stream",
          "text": [
            "379\n"
          ],
          "name": "stdout"
        }
      ]
    },
    {
      "cell_type": "code",
      "metadata": {
        "id": "vt14nZGy4pxJ",
        "colab": {
          "base_uri": "https://localhost:8080/"
        },
        "outputId": "f35ddf10-af64-45d0-9123-2eb0971813de"
      },
      "source": [
        "print(c_1)"
      ],
      "execution_count": null,
      "outputs": [
        {
          "output_type": "stream",
          "text": [
            "379\n"
          ],
          "name": "stdout"
        }
      ]
    },
    {
      "cell_type": "markdown",
      "metadata": {
        "id": "1JghZXhu4tFP"
      },
      "source": [
        "Now out input set has equal no. of fraud and non fraud transction records. It will make good model."
      ]
    },
    {
      "cell_type": "code",
      "metadata": {
        "id": "TksiG49x5BEI",
        "colab": {
          "base_uri": "https://localhost:8080/"
        },
        "outputId": "591238e1-19b7-4b3f-db76-b87ba59e0903"
      },
      "source": [
        "lr=LogisticRegression()\n",
        "lr.fit(input_train_rus,output_train_rus)\n",
        "print(\"Training data Accuracy:%.3f\"%lr.score(input_train_rus,output_train_rus))\n",
        "print(\"Testing data Accuracy:%.3f\"%lr.score(input_test,output_test))"
      ],
      "execution_count": null,
      "outputs": [
        {
          "output_type": "stream",
          "text": [
            "/usr/local/lib/python3.6/dist-packages/sklearn/utils/validation.py:760: DataConversionWarning: A column-vector y was passed when a 1d array was expected. Please change the shape of y to (n_samples, ), for example using ravel().\n",
            "  y = column_or_1d(y, warn=True)\n"
          ],
          "name": "stderr"
        },
        {
          "output_type": "stream",
          "text": [
            "Training data Accuracy:0.921\n",
            "Testing data Accuracy:0.998\n"
          ],
          "name": "stdout"
        }
      ]
    },
    {
      "cell_type": "markdown",
      "metadata": {
        "id": "2z6N3NRf5wTZ"
      },
      "source": [
        "This model is definitely better."
      ]
    }
  ]
}