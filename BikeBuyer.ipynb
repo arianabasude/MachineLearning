{
  "nbformat": 4,
  "nbformat_minor": 0,
  "metadata": {
    "colab": {
      "name": "BikeBuyer.ipynb",
      "provenance": [],
      "mount_file_id": "1qSxWoMLDWyGPleNo2oEfiO3_D4AjBWH6",
      "authorship_tag": "ABX9TyNN7WoOpLU63RYi44GxU7Iw",
      "include_colab_link": true
    },
    "kernelspec": {
      "name": "python3",
      "display_name": "Python 3"
    },
    "language_info": {
      "name": "python"
    }
  },
  "cells": [
    {
      "cell_type": "markdown",
      "metadata": {
        "id": "view-in-github",
        "colab_type": "text"
      },
      "source": [
        "<a href=\"https://colab.research.google.com/github/gayatribasude/MachineLearning/blob/master/BikeBuyer.ipynb\" target=\"_parent\"><img src=\"https://colab.research.google.com/assets/colab-badge.svg\" alt=\"Open In Colab\"/></a>"
      ]
    },
    {
      "cell_type": "code",
      "metadata": {
        "colab": {
          "base_uri": "https://localhost:8080/"
        },
        "id": "_RZgQ_VdggxW",
        "outputId": "e5ac7cf5-eaa6-4cf7-8e3c-42e33df86ff3"
      },
      "source": [
        "cd drive/MyDrive/bike_buyer_dataset/"
      ],
      "execution_count": 1,
      "outputs": [
        {
          "output_type": "stream",
          "text": [
            "/content/drive/MyDrive/bike_buyer_dataset\n"
          ],
          "name": "stdout"
        }
      ]
    },
    {
      "cell_type": "code",
      "metadata": {
        "colab": {
          "base_uri": "https://localhost:8080/"
        },
        "id": "ErtPDXWbhBEx",
        "outputId": "799be2a9-4f8b-472f-9ebc-2309b2e5222f"
      },
      "source": [
        "ls"
      ],
      "execution_count": 2,
      "outputs": [
        {
          "output_type": "stream",
          "text": [
            "bike_buyers.csv\n"
          ],
          "name": "stdout"
        }
      ]
    },
    {
      "cell_type": "code",
      "metadata": {
        "id": "26GNajiHhGYB"
      },
      "source": [
        "import pandas as pd\n",
        "import numpy as np\n",
        "from matplotlib import pyplot\n",
        "import seaborn as sb"
      ],
      "execution_count": 3,
      "outputs": []
    },
    {
      "cell_type": "code",
      "metadata": {
        "id": "gGnGm-lFhTeN"
      },
      "source": [
        "dataset=pd.read_csv('bike_buyers.csv')"
      ],
      "execution_count": 4,
      "outputs": []
    },
    {
      "cell_type": "code",
      "metadata": {
        "colab": {
          "base_uri": "https://localhost:8080/",
          "height": 538
        },
        "id": "RsJE8Gb9hdns",
        "outputId": "c7fd2766-f9ec-4f98-d667-cffebcb1c0e6"
      },
      "source": [
        "dataset"
      ],
      "execution_count": 5,
      "outputs": [
        {
          "output_type": "execute_result",
          "data": {
            "text/html": [
              "<div>\n",
              "<style scoped>\n",
              "    .dataframe tbody tr th:only-of-type {\n",
              "        vertical-align: middle;\n",
              "    }\n",
              "\n",
              "    .dataframe tbody tr th {\n",
              "        vertical-align: top;\n",
              "    }\n",
              "\n",
              "    .dataframe thead th {\n",
              "        text-align: right;\n",
              "    }\n",
              "</style>\n",
              "<table border=\"1\" class=\"dataframe\">\n",
              "  <thead>\n",
              "    <tr style=\"text-align: right;\">\n",
              "      <th></th>\n",
              "      <th>ID</th>\n",
              "      <th>Marital Status</th>\n",
              "      <th>Gender</th>\n",
              "      <th>Income</th>\n",
              "      <th>Children</th>\n",
              "      <th>Education</th>\n",
              "      <th>Occupation</th>\n",
              "      <th>Home Owner</th>\n",
              "      <th>Cars</th>\n",
              "      <th>Commute Distance</th>\n",
              "      <th>Region</th>\n",
              "      <th>Age</th>\n",
              "      <th>Purchased Bike</th>\n",
              "    </tr>\n",
              "  </thead>\n",
              "  <tbody>\n",
              "    <tr>\n",
              "      <th>0</th>\n",
              "      <td>12496</td>\n",
              "      <td>Married</td>\n",
              "      <td>Female</td>\n",
              "      <td>40000</td>\n",
              "      <td>1</td>\n",
              "      <td>Bachelors</td>\n",
              "      <td>Skilled Manual</td>\n",
              "      <td>Yes</td>\n",
              "      <td>0</td>\n",
              "      <td>0-1 Miles</td>\n",
              "      <td>Europe</td>\n",
              "      <td>42</td>\n",
              "      <td>No</td>\n",
              "    </tr>\n",
              "    <tr>\n",
              "      <th>1</th>\n",
              "      <td>24107</td>\n",
              "      <td>Married</td>\n",
              "      <td>Male</td>\n",
              "      <td>30000</td>\n",
              "      <td>3</td>\n",
              "      <td>Partial College</td>\n",
              "      <td>Clerical</td>\n",
              "      <td>Yes</td>\n",
              "      <td>1</td>\n",
              "      <td>0-1 Miles</td>\n",
              "      <td>Europe</td>\n",
              "      <td>43</td>\n",
              "      <td>No</td>\n",
              "    </tr>\n",
              "    <tr>\n",
              "      <th>2</th>\n",
              "      <td>14177</td>\n",
              "      <td>Married</td>\n",
              "      <td>Male</td>\n",
              "      <td>80000</td>\n",
              "      <td>5</td>\n",
              "      <td>Partial College</td>\n",
              "      <td>Professional</td>\n",
              "      <td>No</td>\n",
              "      <td>2</td>\n",
              "      <td>2-5 Miles</td>\n",
              "      <td>Europe</td>\n",
              "      <td>60</td>\n",
              "      <td>No</td>\n",
              "    </tr>\n",
              "    <tr>\n",
              "      <th>3</th>\n",
              "      <td>24381</td>\n",
              "      <td>Single</td>\n",
              "      <td>Male</td>\n",
              "      <td>70000</td>\n",
              "      <td>0</td>\n",
              "      <td>Bachelors</td>\n",
              "      <td>Professional</td>\n",
              "      <td>Yes</td>\n",
              "      <td>1</td>\n",
              "      <td>5-10 Miles</td>\n",
              "      <td>Pacific</td>\n",
              "      <td>41</td>\n",
              "      <td>Yes</td>\n",
              "    </tr>\n",
              "    <tr>\n",
              "      <th>4</th>\n",
              "      <td>25597</td>\n",
              "      <td>Single</td>\n",
              "      <td>Male</td>\n",
              "      <td>30000</td>\n",
              "      <td>0</td>\n",
              "      <td>Bachelors</td>\n",
              "      <td>Clerical</td>\n",
              "      <td>No</td>\n",
              "      <td>0</td>\n",
              "      <td>0-1 Miles</td>\n",
              "      <td>Europe</td>\n",
              "      <td>36</td>\n",
              "      <td>Yes</td>\n",
              "    </tr>\n",
              "    <tr>\n",
              "      <th>...</th>\n",
              "      <td>...</td>\n",
              "      <td>...</td>\n",
              "      <td>...</td>\n",
              "      <td>...</td>\n",
              "      <td>...</td>\n",
              "      <td>...</td>\n",
              "      <td>...</td>\n",
              "      <td>...</td>\n",
              "      <td>...</td>\n",
              "      <td>...</td>\n",
              "      <td>...</td>\n",
              "      <td>...</td>\n",
              "      <td>...</td>\n",
              "    </tr>\n",
              "    <tr>\n",
              "      <th>995</th>\n",
              "      <td>23731</td>\n",
              "      <td>Married</td>\n",
              "      <td>Male</td>\n",
              "      <td>60000</td>\n",
              "      <td>2</td>\n",
              "      <td>High School</td>\n",
              "      <td>Professional</td>\n",
              "      <td>Yes</td>\n",
              "      <td>2</td>\n",
              "      <td>2-5 Miles</td>\n",
              "      <td>North America</td>\n",
              "      <td>54</td>\n",
              "      <td>Yes</td>\n",
              "    </tr>\n",
              "    <tr>\n",
              "      <th>996</th>\n",
              "      <td>28672</td>\n",
              "      <td>Single</td>\n",
              "      <td>Male</td>\n",
              "      <td>70000</td>\n",
              "      <td>4</td>\n",
              "      <td>Graduate Degree</td>\n",
              "      <td>Professional</td>\n",
              "      <td>Yes</td>\n",
              "      <td>0</td>\n",
              "      <td>2-5 Miles</td>\n",
              "      <td>North America</td>\n",
              "      <td>35</td>\n",
              "      <td>Yes</td>\n",
              "    </tr>\n",
              "    <tr>\n",
              "      <th>997</th>\n",
              "      <td>11809</td>\n",
              "      <td>Married</td>\n",
              "      <td>Male</td>\n",
              "      <td>60000</td>\n",
              "      <td>2</td>\n",
              "      <td>Bachelors</td>\n",
              "      <td>Skilled Manual</td>\n",
              "      <td>Yes</td>\n",
              "      <td>0</td>\n",
              "      <td>0-1 Miles</td>\n",
              "      <td>North America</td>\n",
              "      <td>38</td>\n",
              "      <td>Yes</td>\n",
              "    </tr>\n",
              "    <tr>\n",
              "      <th>998</th>\n",
              "      <td>19664</td>\n",
              "      <td>Single</td>\n",
              "      <td>Male</td>\n",
              "      <td>100000</td>\n",
              "      <td>3</td>\n",
              "      <td>Bachelors</td>\n",
              "      <td>Management</td>\n",
              "      <td>No</td>\n",
              "      <td>3</td>\n",
              "      <td>1-2 Miles</td>\n",
              "      <td>North America</td>\n",
              "      <td>38</td>\n",
              "      <td>No</td>\n",
              "    </tr>\n",
              "    <tr>\n",
              "      <th>999</th>\n",
              "      <td>12121</td>\n",
              "      <td>Single</td>\n",
              "      <td>Male</td>\n",
              "      <td>60000</td>\n",
              "      <td>3</td>\n",
              "      <td>High School</td>\n",
              "      <td>Professional</td>\n",
              "      <td>Yes</td>\n",
              "      <td>2</td>\n",
              "      <td>10+ Miles</td>\n",
              "      <td>North America</td>\n",
              "      <td>53</td>\n",
              "      <td>Yes</td>\n",
              "    </tr>\n",
              "  </tbody>\n",
              "</table>\n",
              "<p>1000 rows × 13 columns</p>\n",
              "</div>"
            ],
            "text/plain": [
              "        ID Marital Status  Gender  ...         Region  Age Purchased Bike\n",
              "0    12496        Married  Female  ...         Europe   42             No\n",
              "1    24107        Married    Male  ...         Europe   43             No\n",
              "2    14177        Married    Male  ...         Europe   60             No\n",
              "3    24381         Single    Male  ...        Pacific   41            Yes\n",
              "4    25597         Single    Male  ...         Europe   36            Yes\n",
              "..     ...            ...     ...  ...            ...  ...            ...\n",
              "995  23731        Married    Male  ...  North America   54            Yes\n",
              "996  28672         Single    Male  ...  North America   35            Yes\n",
              "997  11809        Married    Male  ...  North America   38            Yes\n",
              "998  19664         Single    Male  ...  North America   38             No\n",
              "999  12121         Single    Male  ...  North America   53            Yes\n",
              "\n",
              "[1000 rows x 13 columns]"
            ]
          },
          "metadata": {
            "tags": []
          },
          "execution_count": 5
        }
      ]
    },
    {
      "cell_type": "code",
      "metadata": {
        "colab": {
          "base_uri": "https://localhost:8080/"
        },
        "id": "q7hpxY85hpg1",
        "outputId": "f2ac521e-352f-4416-f10e-842e7235f13a"
      },
      "source": [
        "print(dataset.head)"
      ],
      "execution_count": 6,
      "outputs": [
        {
          "output_type": "stream",
          "text": [
            "<bound method NDFrame.head of         ID Marital Status  Gender  ...         Region  Age Purchased Bike\n",
            "0    12496        Married  Female  ...         Europe   42             No\n",
            "1    24107        Married    Male  ...         Europe   43             No\n",
            "2    14177        Married    Male  ...         Europe   60             No\n",
            "3    24381         Single    Male  ...        Pacific   41            Yes\n",
            "4    25597         Single    Male  ...         Europe   36            Yes\n",
            "..     ...            ...     ...  ...            ...  ...            ...\n",
            "995  23731        Married    Male  ...  North America   54            Yes\n",
            "996  28672         Single    Male  ...  North America   35            Yes\n",
            "997  11809        Married    Male  ...  North America   38            Yes\n",
            "998  19664         Single    Male  ...  North America   38             No\n",
            "999  12121         Single    Male  ...  North America   53            Yes\n",
            "\n",
            "[1000 rows x 13 columns]>\n"
          ],
          "name": "stdout"
        }
      ]
    },
    {
      "cell_type": "markdown",
      "metadata": {
        "id": "5ibWROfbiGJA"
      },
      "source": [
        "Total Instances and Features"
      ]
    },
    {
      "cell_type": "code",
      "metadata": {
        "colab": {
          "base_uri": "https://localhost:8080/"
        },
        "id": "XXHsMaOPh8LN",
        "outputId": "798db48a-e73c-41d9-d7a6-e311a4e0ed49"
      },
      "source": [
        "len(dataset)"
      ],
      "execution_count": 7,
      "outputs": [
        {
          "output_type": "execute_result",
          "data": {
            "text/plain": [
              "1000"
            ]
          },
          "metadata": {
            "tags": []
          },
          "execution_count": 7
        }
      ]
    },
    {
      "cell_type": "code",
      "metadata": {
        "colab": {
          "base_uri": "https://localhost:8080/"
        },
        "id": "Bo_jVBcHiQek",
        "outputId": "4ec0d6ff-895e-425f-d60c-300df98944e3"
      },
      "source": [
        "dataset.shape"
      ],
      "execution_count": 8,
      "outputs": [
        {
          "output_type": "execute_result",
          "data": {
            "text/plain": [
              "(1000, 13)"
            ]
          },
          "metadata": {
            "tags": []
          },
          "execution_count": 8
        }
      ]
    },
    {
      "cell_type": "code",
      "metadata": {
        "colab": {
          "base_uri": "https://localhost:8080/"
        },
        "id": "RwTM-9luiV6R",
        "outputId": "f2d0a70c-4d99-46bf-d7e1-c5a7a17b8f63"
      },
      "source": [
        "dataset.columns"
      ],
      "execution_count": 9,
      "outputs": [
        {
          "output_type": "execute_result",
          "data": {
            "text/plain": [
              "Index(['ID', 'Marital Status', 'Gender', 'Income', 'Children', 'Education',\n",
              "       'Occupation', 'Home Owner', 'Cars', 'Commute Distance', 'Region', 'Age',\n",
              "       'Purchased Bike'],\n",
              "      dtype='object')"
            ]
          },
          "metadata": {
            "tags": []
          },
          "execution_count": 9
        }
      ]
    },
    {
      "cell_type": "markdown",
      "metadata": {
        "id": "uu2FfT9ei2IO"
      },
      "source": [
        "###Exploratory Data Analysis"
      ]
    },
    {
      "cell_type": "code",
      "metadata": {
        "id": "7WPgnYNei01r"
      },
      "source": [
        "# sb.countplot(x='Purchased Bike',dataset=dataset)\n",
        "# ValueError: Could not interpret input 'Purchased Bike'"
      ],
      "execution_count": 10,
      "outputs": []
    },
    {
      "cell_type": "code",
      "metadata": {
        "id": "jH2eP2Tojtik"
      },
      "source": [
        "dataset.rename(columns = {'Purchased Bike':'PurchasedBike'}, inplace = True)"
      ],
      "execution_count": 11,
      "outputs": []
    },
    {
      "cell_type": "code",
      "metadata": {
        "colab": {
          "base_uri": "https://localhost:8080/"
        },
        "id": "lU7n4jklkA2A",
        "outputId": "0c7afaed-43c5-42d5-cb40-549f4816f1b7"
      },
      "source": [
        "dataset.columns"
      ],
      "execution_count": 12,
      "outputs": [
        {
          "output_type": "execute_result",
          "data": {
            "text/plain": [
              "Index(['ID', 'Marital Status', 'Gender', 'Income', 'Children', 'Education',\n",
              "       'Occupation', 'Home Owner', 'Cars', 'Commute Distance', 'Region', 'Age',\n",
              "       'PurchasedBike'],\n",
              "      dtype='object')"
            ]
          },
          "metadata": {
            "tags": []
          },
          "execution_count": 12
        }
      ]
    },
    {
      "cell_type": "code",
      "metadata": {
        "colab": {
          "base_uri": "https://localhost:8080/"
        },
        "id": "gHKO3tDboD2s",
        "outputId": "bc78e845-c660-4402-8411-ddfd8ddd8602"
      },
      "source": [
        "dataset.info()"
      ],
      "execution_count": 13,
      "outputs": [
        {
          "output_type": "stream",
          "text": [
            "<class 'pandas.core.frame.DataFrame'>\n",
            "RangeIndex: 1000 entries, 0 to 999\n",
            "Data columns (total 13 columns):\n",
            " #   Column            Non-Null Count  Dtype \n",
            "---  ------            --------------  ----- \n",
            " 0   ID                1000 non-null   int64 \n",
            " 1   Marital Status    1000 non-null   object\n",
            " 2   Gender            1000 non-null   object\n",
            " 3   Income            1000 non-null   int64 \n",
            " 4   Children          1000 non-null   int64 \n",
            " 5   Education         1000 non-null   object\n",
            " 6   Occupation        1000 non-null   object\n",
            " 7   Home Owner        1000 non-null   object\n",
            " 8   Cars              1000 non-null   int64 \n",
            " 9   Commute Distance  1000 non-null   object\n",
            " 10  Region            1000 non-null   object\n",
            " 11  Age               1000 non-null   int64 \n",
            " 12  PurchasedBike     1000 non-null   object\n",
            "dtypes: int64(5), object(8)\n",
            "memory usage: 101.7+ KB\n"
          ],
          "name": "stdout"
        }
      ]
    },
    {
      "cell_type": "code",
      "metadata": {
        "colab": {
          "base_uri": "https://localhost:8080/",
          "height": 297
        },
        "id": "SmIp56NfrKWY",
        "outputId": "ffa97111-66a8-4db9-fe7a-ce92688d195c"
      },
      "source": [
        "#Statistical Data\n",
        "dataset.describe()"
      ],
      "execution_count": 14,
      "outputs": [
        {
          "output_type": "execute_result",
          "data": {
            "text/html": [
              "<div>\n",
              "<style scoped>\n",
              "    .dataframe tbody tr th:only-of-type {\n",
              "        vertical-align: middle;\n",
              "    }\n",
              "\n",
              "    .dataframe tbody tr th {\n",
              "        vertical-align: top;\n",
              "    }\n",
              "\n",
              "    .dataframe thead th {\n",
              "        text-align: right;\n",
              "    }\n",
              "</style>\n",
              "<table border=\"1\" class=\"dataframe\">\n",
              "  <thead>\n",
              "    <tr style=\"text-align: right;\">\n",
              "      <th></th>\n",
              "      <th>ID</th>\n",
              "      <th>Income</th>\n",
              "      <th>Children</th>\n",
              "      <th>Cars</th>\n",
              "      <th>Age</th>\n",
              "    </tr>\n",
              "  </thead>\n",
              "  <tbody>\n",
              "    <tr>\n",
              "      <th>count</th>\n",
              "      <td>1000.000000</td>\n",
              "      <td>1000.000000</td>\n",
              "      <td>1000.000000</td>\n",
              "      <td>1000.000000</td>\n",
              "      <td>1000.000000</td>\n",
              "    </tr>\n",
              "    <tr>\n",
              "      <th>mean</th>\n",
              "      <td>19965.992000</td>\n",
              "      <td>56140.000000</td>\n",
              "      <td>1.908000</td>\n",
              "      <td>1.452000</td>\n",
              "      <td>44.190000</td>\n",
              "    </tr>\n",
              "    <tr>\n",
              "      <th>std</th>\n",
              "      <td>5347.333948</td>\n",
              "      <td>31081.609779</td>\n",
              "      <td>1.626094</td>\n",
              "      <td>1.124705</td>\n",
              "      <td>11.353537</td>\n",
              "    </tr>\n",
              "    <tr>\n",
              "      <th>min</th>\n",
              "      <td>11000.000000</td>\n",
              "      <td>10000.000000</td>\n",
              "      <td>0.000000</td>\n",
              "      <td>0.000000</td>\n",
              "      <td>25.000000</td>\n",
              "    </tr>\n",
              "    <tr>\n",
              "      <th>25%</th>\n",
              "      <td>15290.750000</td>\n",
              "      <td>30000.000000</td>\n",
              "      <td>0.000000</td>\n",
              "      <td>1.000000</td>\n",
              "      <td>35.000000</td>\n",
              "    </tr>\n",
              "    <tr>\n",
              "      <th>50%</th>\n",
              "      <td>19744.000000</td>\n",
              "      <td>60000.000000</td>\n",
              "      <td>2.000000</td>\n",
              "      <td>1.000000</td>\n",
              "      <td>43.000000</td>\n",
              "    </tr>\n",
              "    <tr>\n",
              "      <th>75%</th>\n",
              "      <td>24470.750000</td>\n",
              "      <td>70000.000000</td>\n",
              "      <td>3.000000</td>\n",
              "      <td>2.000000</td>\n",
              "      <td>52.000000</td>\n",
              "    </tr>\n",
              "    <tr>\n",
              "      <th>max</th>\n",
              "      <td>29447.000000</td>\n",
              "      <td>170000.000000</td>\n",
              "      <td>5.000000</td>\n",
              "      <td>4.000000</td>\n",
              "      <td>89.000000</td>\n",
              "    </tr>\n",
              "  </tbody>\n",
              "</table>\n",
              "</div>"
            ],
            "text/plain": [
              "                 ID         Income     Children         Cars          Age\n",
              "count   1000.000000    1000.000000  1000.000000  1000.000000  1000.000000\n",
              "mean   19965.992000   56140.000000     1.908000     1.452000    44.190000\n",
              "std     5347.333948   31081.609779     1.626094     1.124705    11.353537\n",
              "min    11000.000000   10000.000000     0.000000     0.000000    25.000000\n",
              "25%    15290.750000   30000.000000     0.000000     1.000000    35.000000\n",
              "50%    19744.000000   60000.000000     2.000000     1.000000    43.000000\n",
              "75%    24470.750000   70000.000000     3.000000     2.000000    52.000000\n",
              "max    29447.000000  170000.000000     5.000000     4.000000    89.000000"
            ]
          },
          "metadata": {
            "tags": []
          },
          "execution_count": 14
        }
      ]
    },
    {
      "cell_type": "code",
      "metadata": {
        "colab": {
          "base_uri": "https://localhost:8080/",
          "height": 296
        },
        "id": "tPbypeAWkQaI",
        "outputId": "545f2849-9d4a-447b-deeb-0077c82259f7"
      },
      "source": [
        "sb.countplot(x='PurchasedBike',data=dataset,)"
      ],
      "execution_count": 15,
      "outputs": [
        {
          "output_type": "execute_result",
          "data": {
            "text/plain": [
              "<matplotlib.axes._subplots.AxesSubplot at 0x7f301bece1d0>"
            ]
          },
          "metadata": {
            "tags": []
          },
          "execution_count": 15
        },
        {
          "output_type": "display_data",
          "data": {
            "image/png": "[encoded data removed]",
            "text/plain": [
              "<Figure size 432x288 with 1 Axes>"
            ]
          },
          "metadata": {
            "tags": [],
            "needs_background": "light"
          }
        }
      ]
    },
    {
      "cell_type": "code",
      "metadata": {
        "colab": {
          "base_uri": "https://localhost:8080/",
          "height": 296
        },
        "id": "put5dY7woMrv",
        "outputId": "19b91e61-03bb-42ab-d3ea-623a49d3bef7"
      },
      "source": [
        "sb.countplot(x='PurchasedBike',data=dataset,hue='Gender')"
      ],
      "execution_count": 16,
      "outputs": [
        {
          "output_type": "execute_result",
          "data": {
            "text/plain": [
              "<matplotlib.axes._subplots.AxesSubplot at 0x7f301be37c10>"
            ]
          },
          "metadata": {
            "tags": []
          },
          "execution_count": 16
        },
        {
          "output_type": "display_data",
          "data": {
            "image/png": "[encoded data removed]",
            "text/plain": [
              "<Figure size 432x288 with 1 Axes>"
            ]
          },
          "metadata": {
            "tags": [],
            "needs_background": "light"
          }
        }
      ]
    },
    {
      "cell_type": "code",
      "metadata": {
        "colab": {
          "base_uri": "https://localhost:8080/",
          "height": 296
        },
        "id": "GW_MbGfroZc6",
        "outputId": "0c66c63c-f066-4702-da1d-e66e95afd98f"
      },
      "source": [
        "sb.countplot(x='PurchasedBike',data=dataset,hue='Marital Status')"
      ],
      "execution_count": 17,
      "outputs": [
        {
          "output_type": "execute_result",
          "data": {
            "text/plain": [
              "<matplotlib.axes._subplots.AxesSubplot at 0x7f301b972910>"
            ]
          },
          "metadata": {
            "tags": []
          },
          "execution_count": 17
        },
        {
          "output_type": "display_data",
          "data": {
            "image/png": "[encoded data removed]",
            "text/plain": [
              "<Figure size 432x288 with 1 Axes>"
            ]
          },
          "metadata": {
            "tags": [],
            "needs_background": "light"
          }
        }
      ]
    },
    {
      "cell_type": "code",
      "metadata": {
        "colab": {
          "base_uri": "https://localhost:8080/",
          "height": 296
        },
        "id": "LP3GtlQBonkt",
        "outputId": "4bdfd7bc-e900-43cc-c7b2-60a8b22b49a9"
      },
      "source": [
        "sb.countplot(x='PurchasedBike',data=dataset,hue='Cars')"
      ],
      "execution_count": 18,
      "outputs": [
        {
          "output_type": "execute_result",
          "data": {
            "text/plain": [
              "<matplotlib.axes._subplots.AxesSubplot at 0x7f301b8f0550>"
            ]
          },
          "metadata": {
            "tags": []
          },
          "execution_count": 18
        },
        {
          "output_type": "display_data",
          "data": {
            "image/png": "[encoded data removed]",
            "text/plain": [
              "<Figure size 432x288 with 1 Axes>"
            ]
          },
          "metadata": {
            "tags": [],
            "needs_background": "light"
          }
        }
      ]
    },
    {
      "cell_type": "code",
      "metadata": {
        "colab": {
          "base_uri": "https://localhost:8080/",
          "height": 296
        },
        "id": "XCgzWpwVpUJ1",
        "outputId": "2afc3bf8-4b3c-46a0-e3f8-3b29b29ca0a4"
      },
      "source": [
        "sb.countplot(x='PurchasedBike',data=dataset,hue='Home Owner')"
      ],
      "execution_count": 19,
      "outputs": [
        {
          "output_type": "execute_result",
          "data": {
            "text/plain": [
              "<matplotlib.axes._subplots.AxesSubplot at 0x7f301b8e3750>"
            ]
          },
          "metadata": {
            "tags": []
          },
          "execution_count": 19
        },
        {
          "output_type": "display_data",
          "data": {
            "image/png": "[encoded data removed]",
            "text/plain": [
              "<Figure size 432x288 with 1 Axes>"
            ]
          },
          "metadata": {
            "tags": [],
            "needs_background": "light"
          }
        }
      ]
    },
    {
      "cell_type": "code",
      "metadata": {
        "colab": {
          "base_uri": "https://localhost:8080/",
          "height": 282
        },
        "id": "F628Fqbxptfc",
        "outputId": "039350a7-b267-4d9b-f0d2-30820b7d7725"
      },
      "source": [
        "dataset['Age'].plot.hist()"
      ],
      "execution_count": 20,
      "outputs": [
        {
          "output_type": "execute_result",
          "data": {
            "text/plain": [
              "<matplotlib.axes._subplots.AxesSubplot at 0x7f301b9a7890>"
            ]
          },
          "metadata": {
            "tags": []
          },
          "execution_count": 20
        },
        {
          "output_type": "display_data",
          "data": {
            "image/png": "[encoded data removed]",
            "text/plain": [
              "<Figure size 432x288 with 1 Axes>"
            ]
          },
          "metadata": {
            "tags": [],
            "needs_background": "light"
          }
        }
      ]
    },
    {
      "cell_type": "code",
      "metadata": {
        "colab": {
          "base_uri": "https://localhost:8080/",
          "height": 338
        },
        "id": "XklxvlEKqZIy",
        "outputId": "eeafb382-963c-440e-9c21-8f6e5c60fdb2"
      },
      "source": [
        "dataset['Income'].plot.hist(figsize=(10,5))"
      ],
      "execution_count": 21,
      "outputs": [
        {
          "output_type": "execute_result",
          "data": {
            "text/plain": [
              "<matplotlib.axes._subplots.AxesSubplot at 0x7f301ac30e90>"
            ]
          },
          "metadata": {
            "tags": []
          },
          "execution_count": 21
        },
        {
          "output_type": "display_data",
          "data": {
            "image/png": "[encoded data removed]",
            "text/plain": [
              "<Figure size 720x360 with 1 Axes>"
            ]
          },
          "metadata": {
            "tags": [],
            "needs_background": "light"
          }
        }
      ]
    },
    {
      "cell_type": "code",
      "metadata": {
        "id": "zvZpTJpfsPPR"
      },
      "source": [
        ""
      ],
      "execution_count": 21,
      "outputs": []
    },
    {
      "cell_type": "markdown",
      "metadata": {
        "id": "Nd2AO6StsRKT"
      },
      "source": [
        "###Data Preprocessing"
      ]
    },
    {
      "cell_type": "code",
      "metadata": {
        "colab": {
          "base_uri": "https://localhost:8080/",
          "height": 419
        },
        "id": "9pdjPr1DsUet",
        "outputId": "0a73aa84-9cf5-4935-be31-d9294683a1be"
      },
      "source": [
        "dataset.isnull()"
      ],
      "execution_count": 22,
      "outputs": [
        {
          "output_type": "execute_result",
          "data": {
            "text/html": [
              "<div>\n",
              "<style scoped>\n",
              "    .dataframe tbody tr th:only-of-type {\n",
              "        vertical-align: middle;\n",
              "    }\n",
              "\n",
              "    .dataframe tbody tr th {\n",
              "        vertical-align: top;\n",
              "    }\n",
              "\n",
              "    .dataframe thead th {\n",
              "        text-align: right;\n",
              "    }\n",
              "</style>\n",
              "<table border=\"1\" class=\"dataframe\">\n",
              "  <thead>\n",
              "    <tr style=\"text-align: right;\">\n",
              "      <th></th>\n",
              "      <th>ID</th>\n",
              "      <th>Marital Status</th>\n",
              "      <th>Gender</th>\n",
              "      <th>Income</th>\n",
              "      <th>Children</th>\n",
              "      <th>Education</th>\n",
              "      <th>Occupation</th>\n",
              "      <th>Home Owner</th>\n",
              "      <th>Cars</th>\n",
              "      <th>Commute Distance</th>\n",
              "      <th>Region</th>\n",
              "      <th>Age</th>\n",
              "      <th>PurchasedBike</th>\n",
              "    </tr>\n",
              "  </thead>\n",
              "  <tbody>\n",
              "    <tr>\n",
              "      <th>0</th>\n",
              "      <td>False</td>\n",
              "      <td>False</td>\n",
              "      <td>False</td>\n",
              "      <td>False</td>\n",
              "      <td>False</td>\n",
              "      <td>False</td>\n",
              "      <td>False</td>\n",
              "      <td>False</td>\n",
              "      <td>False</td>\n",
              "      <td>False</td>\n",
              "      <td>False</td>\n",
              "      <td>False</td>\n",
              "      <td>False</td>\n",
              "    </tr>\n",
              "    <tr>\n",
              "      <th>1</th>\n",
              "      <td>False</td>\n",
              "      <td>False</td>\n",
              "      <td>False</td>\n",
              "      <td>False</td>\n",
              "      <td>False</td>\n",
              "      <td>False</td>\n",
              "      <td>False</td>\n",
              "      <td>False</td>\n",
              "      <td>False</td>\n",
              "      <td>False</td>\n",
              "      <td>False</td>\n",
              "      <td>False</td>\n",
              "      <td>False</td>\n",
              "    </tr>\n",
              "    <tr>\n",
              "      <th>2</th>\n",
              "      <td>False</td>\n",
              "      <td>False</td>\n",
              "      <td>False</td>\n",
              "      <td>False</td>\n",
              "      <td>False</td>\n",
              "      <td>False</td>\n",
              "      <td>False</td>\n",
              "      <td>False</td>\n",
              "      <td>False</td>\n",
              "      <td>False</td>\n",
              "      <td>False</td>\n",
              "      <td>False</td>\n",
              "      <td>False</td>\n",
              "    </tr>\n",
              "    <tr>\n",
              "      <th>3</th>\n",
              "      <td>False</td>\n",
              "      <td>False</td>\n",
              "      <td>False</td>\n",
              "      <td>False</td>\n",
              "      <td>False</td>\n",
              "      <td>False</td>\n",
              "      <td>False</td>\n",
              "      <td>False</td>\n",
              "      <td>False</td>\n",
              "      <td>False</td>\n",
              "      <td>False</td>\n",
              "      <td>False</td>\n",
              "      <td>False</td>\n",
              "    </tr>\n",
              "    <tr>\n",
              "      <th>4</th>\n",
              "      <td>False</td>\n",
              "      <td>False</td>\n",
              "      <td>False</td>\n",
              "      <td>False</td>\n",
              "      <td>False</td>\n",
              "      <td>False</td>\n",
              "      <td>False</td>\n",
              "      <td>False</td>\n",
              "      <td>False</td>\n",
              "      <td>False</td>\n",
              "      <td>False</td>\n",
              "      <td>False</td>\n",
              "      <td>False</td>\n",
              "    </tr>\n",
              "    <tr>\n",
              "      <th>...</th>\n",
              "      <td>...</td>\n",
              "      <td>...</td>\n",
              "      <td>...</td>\n",
              "      <td>...</td>\n",
              "      <td>...</td>\n",
              "      <td>...</td>\n",
              "      <td>...</td>\n",
              "      <td>...</td>\n",
              "      <td>...</td>\n",
              "      <td>...</td>\n",
              "      <td>...</td>\n",
              "      <td>...</td>\n",
              "      <td>...</td>\n",
              "    </tr>\n",
              "    <tr>\n",
              "      <th>995</th>\n",
              "      <td>False</td>\n",
              "      <td>False</td>\n",
              "      <td>False</td>\n",
              "      <td>False</td>\n",
              "      <td>False</td>\n",
              "      <td>False</td>\n",
              "      <td>False</td>\n",
              "      <td>False</td>\n",
              "      <td>False</td>\n",
              "      <td>False</td>\n",
              "      <td>False</td>\n",
              "      <td>False</td>\n",
              "      <td>False</td>\n",
              "    </tr>\n",
              "    <tr>\n",
              "      <th>996</th>\n",
              "      <td>False</td>\n",
              "      <td>False</td>\n",
              "      <td>False</td>\n",
              "      <td>False</td>\n",
              "      <td>False</td>\n",
              "      <td>False</td>\n",
              "      <td>False</td>\n",
              "      <td>False</td>\n",
              "      <td>False</td>\n",
              "      <td>False</td>\n",
              "      <td>False</td>\n",
              "      <td>False</td>\n",
              "      <td>False</td>\n",
              "    </tr>\n",
              "    <tr>\n",
              "      <th>997</th>\n",
              "      <td>False</td>\n",
              "      <td>False</td>\n",
              "      <td>False</td>\n",
              "      <td>False</td>\n",
              "      <td>False</td>\n",
              "      <td>False</td>\n",
              "      <td>False</td>\n",
              "      <td>False</td>\n",
              "      <td>False</td>\n",
              "      <td>False</td>\n",
              "      <td>False</td>\n",
              "      <td>False</td>\n",
              "      <td>False</td>\n",
              "    </tr>\n",
              "    <tr>\n",
              "      <th>998</th>\n",
              "      <td>False</td>\n",
              "      <td>False</td>\n",
              "      <td>False</td>\n",
              "      <td>False</td>\n",
              "      <td>False</td>\n",
              "      <td>False</td>\n",
              "      <td>False</td>\n",
              "      <td>False</td>\n",
              "      <td>False</td>\n",
              "      <td>False</td>\n",
              "      <td>False</td>\n",
              "      <td>False</td>\n",
              "      <td>False</td>\n",
              "    </tr>\n",
              "    <tr>\n",
              "      <th>999</th>\n",
              "      <td>False</td>\n",
              "      <td>False</td>\n",
              "      <td>False</td>\n",
              "      <td>False</td>\n",
              "      <td>False</td>\n",
              "      <td>False</td>\n",
              "      <td>False</td>\n",
              "      <td>False</td>\n",
              "      <td>False</td>\n",
              "      <td>False</td>\n",
              "      <td>False</td>\n",
              "      <td>False</td>\n",
              "      <td>False</td>\n",
              "    </tr>\n",
              "  </tbody>\n",
              "</table>\n",
              "<p>1000 rows × 13 columns</p>\n",
              "</div>"
            ],
            "text/plain": [
              "        ID  Marital Status  Gender  ...  Region    Age  PurchasedBike\n",
              "0    False           False   False  ...   False  False          False\n",
              "1    False           False   False  ...   False  False          False\n",
              "2    False           False   False  ...   False  False          False\n",
              "3    False           False   False  ...   False  False          False\n",
              "4    False           False   False  ...   False  False          False\n",
              "..     ...             ...     ...  ...     ...    ...            ...\n",
              "995  False           False   False  ...   False  False          False\n",
              "996  False           False   False  ...   False  False          False\n",
              "997  False           False   False  ...   False  False          False\n",
              "998  False           False   False  ...   False  False          False\n",
              "999  False           False   False  ...   False  False          False\n",
              "\n",
              "[1000 rows x 13 columns]"
            ]
          },
          "metadata": {
            "tags": []
          },
          "execution_count": 22
        }
      ]
    },
    {
      "cell_type": "code",
      "metadata": {
        "colab": {
          "base_uri": "https://localhost:8080/"
        },
        "id": "f0t3AUJHsXp4",
        "outputId": "138e980a-9eac-4baf-efd8-e35b38646bbb"
      },
      "source": [
        "dataset.isnull().sum()"
      ],
      "execution_count": 23,
      "outputs": [
        {
          "output_type": "execute_result",
          "data": {
            "text/plain": [
              "ID                  0\n",
              "Marital Status      0\n",
              "Gender              0\n",
              "Income              0\n",
              "Children            0\n",
              "Education           0\n",
              "Occupation          0\n",
              "Home Owner          0\n",
              "Cars                0\n",
              "Commute Distance    0\n",
              "Region              0\n",
              "Age                 0\n",
              "PurchasedBike       0\n",
              "dtype: int64"
            ]
          },
          "metadata": {
            "tags": []
          },
          "execution_count": 23
        }
      ]
    },
    {
      "cell_type": "code",
      "metadata": {
        "colab": {
          "base_uri": "https://localhost:8080/",
          "height": 286
        },
        "id": "0IENxBo3t2_J",
        "outputId": "17e6bca9-bec0-4fe5-96e2-36c2877b8342"
      },
      "source": [
        "sample=pd.DataFrame(np.array([10,10,10,None,10]))\n",
        "sb.heatmap(data=sample.isnull())"
      ],
      "execution_count": 24,
      "outputs": [
        {
          "output_type": "execute_result",
          "data": {
            "text/plain": [
              "<matplotlib.axes._subplots.AxesSubplot at 0x7f301ac0fc10>"
            ]
          },
          "metadata": {
            "tags": []
          },
          "execution_count": 24
        },
        {
          "output_type": "display_data",
          "data": {
            "image/png": "[encoded data removed]",
            "text/plain": [
              "<Figure size 432x288 with 2 Axes>"
            ]
          },
          "metadata": {
            "tags": [],
            "needs_background": "light"
          }
        }
      ]
    },
    {
      "cell_type": "code",
      "metadata": {
        "colab": {
          "base_uri": "https://localhost:8080/",
          "height": 372
        },
        "id": "DN-xSQSxsucq",
        "outputId": "a9fc99fc-8bda-44c3-ded0-e0856d28e52f"
      },
      "source": [
        "sb.heatmap(data=dataset.isnull(),cmap='viridis')"
      ],
      "execution_count": 25,
      "outputs": [
        {
          "output_type": "execute_result",
          "data": {
            "text/plain": [
              "<matplotlib.axes._subplots.AxesSubplot at 0x7f301ab62950>"
            ]
          },
          "metadata": {
            "tags": []
          },
          "execution_count": 25
        },
        {
          "output_type": "display_data",
          "data": {
            "image/png": "[encoded data removed]",
            "text/plain": [
              "<Figure size 432x288 with 2 Axes>"
            ]
          },
          "metadata": {
            "tags": [],
            "needs_background": "light"
          }
        }
      ]
    },
    {
      "cell_type": "markdown",
      "metadata": {
        "id": "nIAh0y50sbGK"
      },
      "source": [
        "There's no missing values"
      ]
    },
    {
      "cell_type": "code",
      "metadata": {
        "id": "HMA-_MUtshz_"
      },
      "source": [
        "#dataset.dropna(inplace=True)"
      ],
      "execution_count": 26,
      "outputs": []
    },
    {
      "cell_type": "code",
      "metadata": {
        "colab": {
          "base_uri": "https://localhost:8080/",
          "height": 204
        },
        "id": "r1o9mFLYxfL2",
        "outputId": "794f2993-f650-4419-bdc1-65e204013cb4"
      },
      "source": [
        "dataset.head()"
      ],
      "execution_count": 27,
      "outputs": [
        {
          "output_type": "execute_result",
          "data": {
            "text/html": [
              "<div>\n",
              "<style scoped>\n",
              "    .dataframe tbody tr th:only-of-type {\n",
              "        vertical-align: middle;\n",
              "    }\n",
              "\n",
              "    .dataframe tbody tr th {\n",
              "        vertical-align: top;\n",
              "    }\n",
              "\n",
              "    .dataframe thead th {\n",
              "        text-align: right;\n",
              "    }\n",
              "</style>\n",
              "<table border=\"1\" class=\"dataframe\">\n",
              "  <thead>\n",
              "    <tr style=\"text-align: right;\">\n",
              "      <th></th>\n",
              "      <th>ID</th>\n",
              "      <th>Marital Status</th>\n",
              "      <th>Gender</th>\n",
              "      <th>Income</th>\n",
              "      <th>Children</th>\n",
              "      <th>Education</th>\n",
              "      <th>Occupation</th>\n",
              "      <th>Home Owner</th>\n",
              "      <th>Cars</th>\n",
              "      <th>Commute Distance</th>\n",
              "      <th>Region</th>\n",
              "      <th>Age</th>\n",
              "      <th>PurchasedBike</th>\n",
              "    </tr>\n",
              "  </thead>\n",
              "  <tbody>\n",
              "    <tr>\n",
              "      <th>0</th>\n",
              "      <td>12496</td>\n",
              "      <td>Married</td>\n",
              "      <td>Female</td>\n",
              "      <td>40000</td>\n",
              "      <td>1</td>\n",
              "      <td>Bachelors</td>\n",
              "      <td>Skilled Manual</td>\n",
              "      <td>Yes</td>\n",
              "      <td>0</td>\n",
              "      <td>0-1 Miles</td>\n",
              "      <td>Europe</td>\n",
              "      <td>42</td>\n",
              "      <td>No</td>\n",
              "    </tr>\n",
              "    <tr>\n",
              "      <th>1</th>\n",
              "      <td>24107</td>\n",
              "      <td>Married</td>\n",
              "      <td>Male</td>\n",
              "      <td>30000</td>\n",
              "      <td>3</td>\n",
              "      <td>Partial College</td>\n",
              "      <td>Clerical</td>\n",
              "      <td>Yes</td>\n",
              "      <td>1</td>\n",
              "      <td>0-1 Miles</td>\n",
              "      <td>Europe</td>\n",
              "      <td>43</td>\n",
              "      <td>No</td>\n",
              "    </tr>\n",
              "    <tr>\n",
              "      <th>2</th>\n",
              "      <td>14177</td>\n",
              "      <td>Married</td>\n",
              "      <td>Male</td>\n",
              "      <td>80000</td>\n",
              "      <td>5</td>\n",
              "      <td>Partial College</td>\n",
              "      <td>Professional</td>\n",
              "      <td>No</td>\n",
              "      <td>2</td>\n",
              "      <td>2-5 Miles</td>\n",
              "      <td>Europe</td>\n",
              "      <td>60</td>\n",
              "      <td>No</td>\n",
              "    </tr>\n",
              "    <tr>\n",
              "      <th>3</th>\n",
              "      <td>24381</td>\n",
              "      <td>Single</td>\n",
              "      <td>Male</td>\n",
              "      <td>70000</td>\n",
              "      <td>0</td>\n",
              "      <td>Bachelors</td>\n",
              "      <td>Professional</td>\n",
              "      <td>Yes</td>\n",
              "      <td>1</td>\n",
              "      <td>5-10 Miles</td>\n",
              "      <td>Pacific</td>\n",
              "      <td>41</td>\n",
              "      <td>Yes</td>\n",
              "    </tr>\n",
              "    <tr>\n",
              "      <th>4</th>\n",
              "      <td>25597</td>\n",
              "      <td>Single</td>\n",
              "      <td>Male</td>\n",
              "      <td>30000</td>\n",
              "      <td>0</td>\n",
              "      <td>Bachelors</td>\n",
              "      <td>Clerical</td>\n",
              "      <td>No</td>\n",
              "      <td>0</td>\n",
              "      <td>0-1 Miles</td>\n",
              "      <td>Europe</td>\n",
              "      <td>36</td>\n",
              "      <td>Yes</td>\n",
              "    </tr>\n",
              "  </tbody>\n",
              "</table>\n",
              "</div>"
            ],
            "text/plain": [
              "      ID Marital Status  Gender  ...   Region  Age PurchasedBike\n",
              "0  12496        Married  Female  ...   Europe   42            No\n",
              "1  24107        Married    Male  ...   Europe   43            No\n",
              "2  14177        Married    Male  ...   Europe   60            No\n",
              "3  24381         Single    Male  ...  Pacific   41           Yes\n",
              "4  25597         Single    Male  ...   Europe   36           Yes\n",
              "\n",
              "[5 rows x 13 columns]"
            ]
          },
          "metadata": {
            "tags": []
          },
          "execution_count": 27
        }
      ]
    },
    {
      "cell_type": "code",
      "metadata": {
        "id": "S19OKD1Gxq0V"
      },
      "source": [
        "#dataset.drop('ID',inplace=True)\n",
        "#\"['ID'] not found in axis\"\n",
        "dataset.drop('ID',inplace=True,axis=1)"
      ],
      "execution_count": 28,
      "outputs": []
    },
    {
      "cell_type": "code",
      "metadata": {
        "colab": {
          "base_uri": "https://localhost:8080/",
          "height": 204
        },
        "id": "qe2wNwGZyEm_",
        "outputId": "3d13db19-6672-4fa3-c71c-ae4f06d628cb"
      },
      "source": [
        "dataset.head()"
      ],
      "execution_count": 29,
      "outputs": [
        {
          "output_type": "execute_result",
          "data": {
            "text/html": [
              "<div>\n",
              "<style scoped>\n",
              "    .dataframe tbody tr th:only-of-type {\n",
              "        vertical-align: middle;\n",
              "    }\n",
              "\n",
              "    .dataframe tbody tr th {\n",
              "        vertical-align: top;\n",
              "    }\n",
              "\n",
              "    .dataframe thead th {\n",
              "        text-align: right;\n",
              "    }\n",
              "</style>\n",
              "<table border=\"1\" class=\"dataframe\">\n",
              "  <thead>\n",
              "    <tr style=\"text-align: right;\">\n",
              "      <th></th>\n",
              "      <th>Marital Status</th>\n",
              "      <th>Gender</th>\n",
              "      <th>Income</th>\n",
              "      <th>Children</th>\n",
              "      <th>Education</th>\n",
              "      <th>Occupation</th>\n",
              "      <th>Home Owner</th>\n",
              "      <th>Cars</th>\n",
              "      <th>Commute Distance</th>\n",
              "      <th>Region</th>\n",
              "      <th>Age</th>\n",
              "      <th>PurchasedBike</th>\n",
              "    </tr>\n",
              "  </thead>\n",
              "  <tbody>\n",
              "    <tr>\n",
              "      <th>0</th>\n",
              "      <td>Married</td>\n",
              "      <td>Female</td>\n",
              "      <td>40000</td>\n",
              "      <td>1</td>\n",
              "      <td>Bachelors</td>\n",
              "      <td>Skilled Manual</td>\n",
              "      <td>Yes</td>\n",
              "      <td>0</td>\n",
              "      <td>0-1 Miles</td>\n",
              "      <td>Europe</td>\n",
              "      <td>42</td>\n",
              "      <td>No</td>\n",
              "    </tr>\n",
              "    <tr>\n",
              "      <th>1</th>\n",
              "      <td>Married</td>\n",
              "      <td>Male</td>\n",
              "      <td>30000</td>\n",
              "      <td>3</td>\n",
              "      <td>Partial College</td>\n",
              "      <td>Clerical</td>\n",
              "      <td>Yes</td>\n",
              "      <td>1</td>\n",
              "      <td>0-1 Miles</td>\n",
              "      <td>Europe</td>\n",
              "      <td>43</td>\n",
              "      <td>No</td>\n",
              "    </tr>\n",
              "    <tr>\n",
              "      <th>2</th>\n",
              "      <td>Married</td>\n",
              "      <td>Male</td>\n",
              "      <td>80000</td>\n",
              "      <td>5</td>\n",
              "      <td>Partial College</td>\n",
              "      <td>Professional</td>\n",
              "      <td>No</td>\n",
              "      <td>2</td>\n",
              "      <td>2-5 Miles</td>\n",
              "      <td>Europe</td>\n",
              "      <td>60</td>\n",
              "      <td>No</td>\n",
              "    </tr>\n",
              "    <tr>\n",
              "      <th>3</th>\n",
              "      <td>Single</td>\n",
              "      <td>Male</td>\n",
              "      <td>70000</td>\n",
              "      <td>0</td>\n",
              "      <td>Bachelors</td>\n",
              "      <td>Professional</td>\n",
              "      <td>Yes</td>\n",
              "      <td>1</td>\n",
              "      <td>5-10 Miles</td>\n",
              "      <td>Pacific</td>\n",
              "      <td>41</td>\n",
              "      <td>Yes</td>\n",
              "    </tr>\n",
              "    <tr>\n",
              "      <th>4</th>\n",
              "      <td>Single</td>\n",
              "      <td>Male</td>\n",
              "      <td>30000</td>\n",
              "      <td>0</td>\n",
              "      <td>Bachelors</td>\n",
              "      <td>Clerical</td>\n",
              "      <td>No</td>\n",
              "      <td>0</td>\n",
              "      <td>0-1 Miles</td>\n",
              "      <td>Europe</td>\n",
              "      <td>36</td>\n",
              "      <td>Yes</td>\n",
              "    </tr>\n",
              "  </tbody>\n",
              "</table>\n",
              "</div>"
            ],
            "text/plain": [
              "  Marital Status  Gender  Income  ...   Region Age PurchasedBike\n",
              "0        Married  Female   40000  ...   Europe  42            No\n",
              "1        Married    Male   30000  ...   Europe  43            No\n",
              "2        Married    Male   80000  ...   Europe  60            No\n",
              "3         Single    Male   70000  ...  Pacific  41           Yes\n",
              "4         Single    Male   30000  ...   Europe  36           Yes\n",
              "\n",
              "[5 rows x 12 columns]"
            ]
          },
          "metadata": {
            "tags": []
          },
          "execution_count": 29
        }
      ]
    },
    {
      "cell_type": "code",
      "metadata": {
        "colab": {
          "base_uri": "https://localhost:8080/",
          "height": 473
        },
        "id": "7ypBcdcT0dMt",
        "outputId": "1beea906-e348-4df4-a37b-077f06684251"
      },
      "source": [
        "dataset=pd.get_dummies(dataset,drop_first=True)\n",
        "dataset"
      ],
      "execution_count": 30,
      "outputs": [
        {
          "output_type": "execute_result",
          "data": {
            "text/html": [
              "<div>\n",
              "<style scoped>\n",
              "    .dataframe tbody tr th:only-of-type {\n",
              "        vertical-align: middle;\n",
              "    }\n",
              "\n",
              "    .dataframe tbody tr th {\n",
              "        vertical-align: top;\n",
              "    }\n",
              "\n",
              "    .dataframe thead th {\n",
              "        text-align: right;\n",
              "    }\n",
              "</style>\n",
              "<table border=\"1\" class=\"dataframe\">\n",
              "  <thead>\n",
              "    <tr style=\"text-align: right;\">\n",
              "      <th></th>\n",
              "      <th>Income</th>\n",
              "      <th>Children</th>\n",
              "      <th>Cars</th>\n",
              "      <th>Age</th>\n",
              "      <th>Marital Status_Single</th>\n",
              "      <th>Gender_Male</th>\n",
              "      <th>Education_Graduate Degree</th>\n",
              "      <th>Education_High School</th>\n",
              "      <th>Education_Partial College</th>\n",
              "      <th>Education_Partial High School</th>\n",
              "      <th>Occupation_Management</th>\n",
              "      <th>Occupation_Manual</th>\n",
              "      <th>Occupation_Professional</th>\n",
              "      <th>Occupation_Skilled Manual</th>\n",
              "      <th>Home Owner_Yes</th>\n",
              "      <th>Commute Distance_1-2 Miles</th>\n",
              "      <th>Commute Distance_10+ Miles</th>\n",
              "      <th>Commute Distance_2-5 Miles</th>\n",
              "      <th>Commute Distance_5-10 Miles</th>\n",
              "      <th>Region_North America</th>\n",
              "      <th>Region_Pacific</th>\n",
              "      <th>PurchasedBike_Yes</th>\n",
              "    </tr>\n",
              "  </thead>\n",
              "  <tbody>\n",
              "    <tr>\n",
              "      <th>0</th>\n",
              "      <td>40000</td>\n",
              "      <td>1</td>\n",
              "      <td>0</td>\n",
              "      <td>42</td>\n",
              "      <td>0</td>\n",
              "      <td>0</td>\n",
              "      <td>0</td>\n",
              "      <td>0</td>\n",
              "      <td>0</td>\n",
              "      <td>0</td>\n",
              "      <td>0</td>\n",
              "      <td>0</td>\n",
              "      <td>0</td>\n",
              "      <td>1</td>\n",
              "      <td>1</td>\n",
              "      <td>0</td>\n",
              "      <td>0</td>\n",
              "      <td>0</td>\n",
              "      <td>0</td>\n",
              "      <td>0</td>\n",
              "      <td>0</td>\n",
              "      <td>0</td>\n",
              "    </tr>\n",
              "    <tr>\n",
              "      <th>1</th>\n",
              "      <td>30000</td>\n",
              "      <td>3</td>\n",
              "      <td>1</td>\n",
              "      <td>43</td>\n",
              "      <td>0</td>\n",
              "      <td>1</td>\n",
              "      <td>0</td>\n",
              "      <td>0</td>\n",
              "      <td>1</td>\n",
              "      <td>0</td>\n",
              "      <td>0</td>\n",
              "      <td>0</td>\n",
              "      <td>0</td>\n",
              "      <td>0</td>\n",
              "      <td>1</td>\n",
              "      <td>0</td>\n",
              "      <td>0</td>\n",
              "      <td>0</td>\n",
              "      <td>0</td>\n",
              "      <td>0</td>\n",
              "      <td>0</td>\n",
              "      <td>0</td>\n",
              "    </tr>\n",
              "    <tr>\n",
              "      <th>2</th>\n",
              "      <td>80000</td>\n",
              "      <td>5</td>\n",
              "      <td>2</td>\n",
              "      <td>60</td>\n",
              "      <td>0</td>\n",
              "      <td>1</td>\n",
              "      <td>0</td>\n",
              "      <td>0</td>\n",
              "      <td>1</td>\n",
              "      <td>0</td>\n",
              "      <td>0</td>\n",
              "      <td>0</td>\n",
              "      <td>1</td>\n",
              "      <td>0</td>\n",
              "      <td>0</td>\n",
              "      <td>0</td>\n",
              "      <td>0</td>\n",
              "      <td>1</td>\n",
              "      <td>0</td>\n",
              "      <td>0</td>\n",
              "      <td>0</td>\n",
              "      <td>0</td>\n",
              "    </tr>\n",
              "    <tr>\n",
              "      <th>3</th>\n",
              "      <td>70000</td>\n",
              "      <td>0</td>\n",
              "      <td>1</td>\n",
              "      <td>41</td>\n",
              "      <td>1</td>\n",
              "      <td>1</td>\n",
              "      <td>0</td>\n",
              "      <td>0</td>\n",
              "      <td>0</td>\n",
              "      <td>0</td>\n",
              "      <td>0</td>\n",
              "      <td>0</td>\n",
              "      <td>1</td>\n",
              "      <td>0</td>\n",
              "      <td>1</td>\n",
              "      <td>0</td>\n",
              "      <td>0</td>\n",
              "      <td>0</td>\n",
              "      <td>1</td>\n",
              "      <td>0</td>\n",
              "      <td>1</td>\n",
              "      <td>1</td>\n",
              "    </tr>\n",
              "    <tr>\n",
              "      <th>4</th>\n",
              "      <td>30000</td>\n",
              "      <td>0</td>\n",
              "      <td>0</td>\n",
              "      <td>36</td>\n",
              "      <td>1</td>\n",
              "      <td>1</td>\n",
              "      <td>0</td>\n",
              "      <td>0</td>\n",
              "      <td>0</td>\n",
              "      <td>0</td>\n",
              "      <td>0</td>\n",
              "      <td>0</td>\n",
              "      <td>0</td>\n",
              "      <td>0</td>\n",
              "      <td>0</td>\n",
              "      <td>0</td>\n",
              "      <td>0</td>\n",
              "      <td>0</td>\n",
              "      <td>0</td>\n",
              "      <td>0</td>\n",
              "      <td>0</td>\n",
              "      <td>1</td>\n",
              "    </tr>\n",
              "    <tr>\n",
              "      <th>...</th>\n",
              "      <td>...</td>\n",
              "      <td>...</td>\n",
              "      <td>...</td>\n",
              "      <td>...</td>\n",
              "      <td>...</td>\n",
              "      <td>...</td>\n",
              "      <td>...</td>\n",
              "      <td>...</td>\n",
              "      <td>...</td>\n",
              "      <td>...</td>\n",
              "      <td>...</td>\n",
              "      <td>...</td>\n",
              "      <td>...</td>\n",
              "      <td>...</td>\n",
              "      <td>...</td>\n",
              "      <td>...</td>\n",
              "      <td>...</td>\n",
              "      <td>...</td>\n",
              "      <td>...</td>\n",
              "      <td>...</td>\n",
              "      <td>...</td>\n",
              "      <td>...</td>\n",
              "    </tr>\n",
              "    <tr>\n",
              "      <th>995</th>\n",
              "      <td>60000</td>\n",
              "      <td>2</td>\n",
              "      <td>2</td>\n",
              "      <td>54</td>\n",
              "      <td>0</td>\n",
              "      <td>1</td>\n",
              "      <td>0</td>\n",
              "      <td>1</td>\n",
              "      <td>0</td>\n",
              "      <td>0</td>\n",
              "      <td>0</td>\n",
              "      <td>0</td>\n",
              "      <td>1</td>\n",
              "      <td>0</td>\n",
              "      <td>1</td>\n",
              "      <td>0</td>\n",
              "      <td>0</td>\n",
              "      <td>1</td>\n",
              "      <td>0</td>\n",
              "      <td>1</td>\n",
              "      <td>0</td>\n",
              "      <td>1</td>\n",
              "    </tr>\n",
              "    <tr>\n",
              "      <th>996</th>\n",
              "      <td>70000</td>\n",
              "      <td>4</td>\n",
              "      <td>0</td>\n",
              "      <td>35</td>\n",
              "      <td>1</td>\n",
              "      <td>1</td>\n",
              "      <td>1</td>\n",
              "      <td>0</td>\n",
              "      <td>0</td>\n",
              "      <td>0</td>\n",
              "      <td>0</td>\n",
              "      <td>0</td>\n",
              "      <td>1</td>\n",
              "      <td>0</td>\n",
              "      <td>1</td>\n",
              "      <td>0</td>\n",
              "      <td>0</td>\n",
              "      <td>1</td>\n",
              "      <td>0</td>\n",
              "      <td>1</td>\n",
              "      <td>0</td>\n",
              "      <td>1</td>\n",
              "    </tr>\n",
              "    <tr>\n",
              "      <th>997</th>\n",
              "      <td>60000</td>\n",
              "      <td>2</td>\n",
              "      <td>0</td>\n",
              "      <td>38</td>\n",
              "      <td>0</td>\n",
              "      <td>1</td>\n",
              "      <td>0</td>\n",
              "      <td>0</td>\n",
              "      <td>0</td>\n",
              "      <td>0</td>\n",
              "      <td>0</td>\n",
              "      <td>0</td>\n",
              "      <td>0</td>\n",
              "      <td>1</td>\n",
              "      <td>1</td>\n",
              "      <td>0</td>\n",
              "      <td>0</td>\n",
              "      <td>0</td>\n",
              "      <td>0</td>\n",
              "      <td>1</td>\n",
              "      <td>0</td>\n",
              "      <td>1</td>\n",
              "    </tr>\n",
              "    <tr>\n",
              "      <th>998</th>\n",
              "      <td>100000</td>\n",
              "      <td>3</td>\n",
              "      <td>3</td>\n",
              "      <td>38</td>\n",
              "      <td>1</td>\n",
              "      <td>1</td>\n",
              "      <td>0</td>\n",
              "      <td>0</td>\n",
              "      <td>0</td>\n",
              "      <td>0</td>\n",
              "      <td>1</td>\n",
              "      <td>0</td>\n",
              "      <td>0</td>\n",
              "      <td>0</td>\n",
              "      <td>0</td>\n",
              "      <td>1</td>\n",
              "      <td>0</td>\n",
              "      <td>0</td>\n",
              "      <td>0</td>\n",
              "      <td>1</td>\n",
              "      <td>0</td>\n",
              "      <td>0</td>\n",
              "    </tr>\n",
              "    <tr>\n",
              "      <th>999</th>\n",
              "      <td>60000</td>\n",
              "      <td>3</td>\n",
              "      <td>2</td>\n",
              "      <td>53</td>\n",
              "      <td>1</td>\n",
              "      <td>1</td>\n",
              "      <td>0</td>\n",
              "      <td>1</td>\n",
              "      <td>0</td>\n",
              "      <td>0</td>\n",
              "      <td>0</td>\n",
              "      <td>0</td>\n",
              "      <td>1</td>\n",
              "      <td>0</td>\n",
              "      <td>1</td>\n",
              "      <td>0</td>\n",
              "      <td>1</td>\n",
              "      <td>0</td>\n",
              "      <td>0</td>\n",
              "      <td>1</td>\n",
              "      <td>0</td>\n",
              "      <td>1</td>\n",
              "    </tr>\n",
              "  </tbody>\n",
              "</table>\n",
              "<p>1000 rows × 22 columns</p>\n",
              "</div>"
            ],
            "text/plain": [
              "     Income  Children  ...  Region_Pacific  PurchasedBike_Yes\n",
              "0     40000         1  ...               0                  0\n",
              "1     30000         3  ...               0                  0\n",
              "2     80000         5  ...               0                  0\n",
              "3     70000         0  ...               1                  1\n",
              "4     30000         0  ...               0                  1\n",
              "..      ...       ...  ...             ...                ...\n",
              "995   60000         2  ...               0                  1\n",
              "996   70000         4  ...               0                  1\n",
              "997   60000         2  ...               0                  1\n",
              "998  100000         3  ...               0                  0\n",
              "999   60000         3  ...               0                  1\n",
              "\n",
              "[1000 rows x 22 columns]"
            ]
          },
          "metadata": {
            "tags": []
          },
          "execution_count": 30
        }
      ]
    },
    {
      "cell_type": "code",
      "metadata": {
        "colab": {
          "base_uri": "https://localhost:8080/"
        },
        "id": "8AqBQqnj4ugw",
        "outputId": "f5a9a9da-f450-4285-9806-911f62c9a494"
      },
      "source": [
        "dataset.info()"
      ],
      "execution_count": 31,
      "outputs": [
        {
          "output_type": "stream",
          "text": [
            "<class 'pandas.core.frame.DataFrame'>\n",
            "RangeIndex: 1000 entries, 0 to 999\n",
            "Data columns (total 22 columns):\n",
            " #   Column                         Non-Null Count  Dtype\n",
            "---  ------                         --------------  -----\n",
            " 0   Income                         1000 non-null   int64\n",
            " 1   Children                       1000 non-null   int64\n",
            " 2   Cars                           1000 non-null   int64\n",
            " 3   Age                            1000 non-null   int64\n",
            " 4   Marital Status_Single          1000 non-null   uint8\n",
            " 5   Gender_Male                    1000 non-null   uint8\n",
            " 6   Education_Graduate Degree      1000 non-null   uint8\n",
            " 7   Education_High School          1000 non-null   uint8\n",
            " 8   Education_Partial College      1000 non-null   uint8\n",
            " 9   Education_Partial High School  1000 non-null   uint8\n",
            " 10  Occupation_Management          1000 non-null   uint8\n",
            " 11  Occupation_Manual              1000 non-null   uint8\n",
            " 12  Occupation_Professional        1000 non-null   uint8\n",
            " 13  Occupation_Skilled Manual      1000 non-null   uint8\n",
            " 14  Home Owner_Yes                 1000 non-null   uint8\n",
            " 15  Commute Distance_1-2 Miles     1000 non-null   uint8\n",
            " 16  Commute Distance_10+ Miles     1000 non-null   uint8\n",
            " 17  Commute Distance_2-5 Miles     1000 non-null   uint8\n",
            " 18  Commute Distance_5-10 Miles    1000 non-null   uint8\n",
            " 19  Region_North America           1000 non-null   uint8\n",
            " 20  Region_Pacific                 1000 non-null   uint8\n",
            " 21  PurchasedBike_Yes              1000 non-null   uint8\n",
            "dtypes: int64(4), uint8(18)\n",
            "memory usage: 49.0 KB\n"
          ],
          "name": "stdout"
        }
      ]
    },
    {
      "cell_type": "markdown",
      "metadata": {
        "id": "lEW5u2LG69QG"
      },
      "source": [
        "###Splitting the dataset"
      ]
    },
    {
      "cell_type": "markdown",
      "metadata": {
        "id": "zC-4G1uW9xif"
      },
      "source": [
        "* input_dataset: Dataset with only features( independent columns)\n",
        "* output_dataset: Dataset with only target column (depenedent column)"
      ]
    },
    {
      "cell_type": "code",
      "metadata": {
        "id": "LdDpf7-B8r5N"
      },
      "source": [
        "output_dataset=dataset['PurchasedBike_Yes']"
      ],
      "execution_count": 32,
      "outputs": []
    },
    {
      "cell_type": "code",
      "metadata": {
        "colab": {
          "base_uri": "https://localhost:8080/"
        },
        "id": "_gZ268or9lRF",
        "outputId": "615f288e-d060-4912-d6e3-48e1432846f5"
      },
      "source": [
        "type(output_dataset)"
      ],
      "execution_count": 33,
      "outputs": [
        {
          "output_type": "execute_result",
          "data": {
            "text/plain": [
              "pandas.core.series.Series"
            ]
          },
          "metadata": {
            "tags": []
          },
          "execution_count": 33
        }
      ]
    },
    {
      "cell_type": "code",
      "metadata": {
        "id": "rbErXjJy8lvZ"
      },
      "source": [
        "input_dataset=dataset.drop('PurchasedBike_Yes',axis=1)"
      ],
      "execution_count": 34,
      "outputs": []
    },
    {
      "cell_type": "code",
      "metadata": {
        "colab": {
          "base_uri": "https://localhost:8080/"
        },
        "id": "cB0Uka5y82uR",
        "outputId": "5edb9e24-41ce-4d6f-ab3e-9995b3692ed9"
      },
      "source": [
        "type(input_dataset)"
      ],
      "execution_count": 35,
      "outputs": [
        {
          "output_type": "execute_result",
          "data": {
            "text/plain": [
              "pandas.core.frame.DataFrame"
            ]
          },
          "metadata": {
            "tags": []
          },
          "execution_count": 35
        }
      ]
    },
    {
      "cell_type": "code",
      "metadata": {
        "colab": {
          "base_uri": "https://localhost:8080/"
        },
        "id": "zXYp0HZV9rFJ",
        "outputId": "cb9be813-d588-4559-fe66-9a317eebd95a"
      },
      "source": [
        "input_dataset.columns"
      ],
      "execution_count": 36,
      "outputs": [
        {
          "output_type": "execute_result",
          "data": {
            "text/plain": [
              "Index(['Income', 'Children', 'Cars', 'Age', 'Marital Status_Single',\n",
              "       'Gender_Male', 'Education_Graduate Degree', 'Education_High School',\n",
              "       'Education_Partial College', 'Education_Partial High School',\n",
              "       'Occupation_Management', 'Occupation_Manual', 'Occupation_Professional',\n",
              "       'Occupation_Skilled Manual', 'Home Owner_Yes',\n",
              "       'Commute Distance_1-2 Miles', 'Commute Distance_10+ Miles',\n",
              "       'Commute Distance_2-5 Miles', 'Commute Distance_5-10 Miles',\n",
              "       'Region_North America', 'Region_Pacific'],\n",
              "      dtype='object')"
            ]
          },
          "metadata": {
            "tags": []
          },
          "execution_count": 36
        }
      ]
    },
    {
      "cell_type": "markdown",
      "metadata": {
        "id": "WssLeF8t-DBu"
      },
      "source": [
        "* input_train, output_train: Dataset for fitting the model (60%)\n",
        "* input_validation, output_validation: For validating the fitted model and making improvements in it (20%)\n",
        "* input_test, output_test: Dataset to check accuracy of the model for unseen data (20%)"
      ]
    },
    {
      "cell_type": "code",
      "metadata": {
        "id": "EppcgLS47CxC"
      },
      "source": [
        "from sklearn.model_selection import train_test_split\n",
        "input_train,input_test,output_train,output_test=train_test_split(input_dataset,output_dataset,random_state=10,train_size=0.80)\n",
        "input_train,input_validation,output_train,output_validation=train_test_split(input_train,output_train,random_state=10,train_size=0.75)"
      ],
      "execution_count": 37,
      "outputs": []
    },
    {
      "cell_type": "code",
      "metadata": {
        "colab": {
          "base_uri": "https://localhost:8080/"
        },
        "id": "pXZiajUD-1bK",
        "outputId": "b63d4a84-d1f6-4b8b-9b47-35fc6cd2b7df"
      },
      "source": [
        "print(\"Shape of\")\n",
        "print(f\"input_train:{input_train.shape} and output_train:{output_train.shape}\")\n",
        "print(f\"input_validation:{input_validation.shape} and output_validation:{output_validation.shape}\")\n",
        "print(f\"input_test:{input_test.shape} and output_test:{output_test.shape}\")"
      ],
      "execution_count": 38,
      "outputs": [
        {
          "output_type": "stream",
          "text": [
            "Shape of\n",
            "input_train:(600, 21) and output_train:(600,)\n",
            "input_validation:(200, 21) and output_validation:(200,)\n",
            "input_test:(200, 21) and output_test:(200,)\n"
          ],
          "name": "stdout"
        }
      ]
    },
    {
      "cell_type": "markdown",
      "metadata": {
        "id": "Wg4v6KYd6qzX"
      },
      "source": [
        "###Logistic Regression"
      ]
    },
    {
      "cell_type": "markdown",
      "metadata": {
        "id": "fnOUSz-zHEww"
      },
      "source": [
        "My Implementation using Python and Keras"
      ]
    },
    {
      "cell_type": "markdown",
      "metadata": {
        "id": "QV6NhYmdI-wF"
      },
      "source": [
        "* Define Model Class\n",
        "* Define Loss function\n",
        "* Obtain optimized coeffiecint of model by passing training dataset\n",
        "* Combine all of these to form Logistic Regression Function\n",
        "* Define Score function (aka Accuracy)"
      ]
    },
    {
      "cell_type": "code",
      "metadata": {
        "id": "3oWMT47vgcpQ"
      },
      "source": [
        "import math\n",
        "import tensorflow as tf"
      ],
      "execution_count": 39,
      "outputs": []
    },
    {
      "cell_type": "code",
      "metadata": {
        "id": "iO3cT4d56Wzt"
      },
      "source": [
        "def Sigmoid(x):\n",
        "    if np.all(x>=0): #Optimize sigmoid function to avoid extreme data overflow\n",
        "        return 1.0 / (1 + np.exp(-x))\n",
        "    else:\n",
        "        return np.exp(x)/(1+np.exp(x))"
      ],
      "execution_count": 40,
      "outputs": []
    },
    {
      "cell_type": "code",
      "metadata": {
        "id": "cIvvytmiHEd0"
      },
      "source": [
        "class Model:\n",
        "  def __init__(self,no_of_features):\n",
        "    # self.weight=np.random.random_sample(no_of_features);\n",
        "    # self.bias=np.random.random_sample(1);\n",
        "    self.weight=np.zeros(no_of_features);\n",
        "    self.bias=np.zeros(1);\n",
        "    \n",
        "  def __call__(self,input_dataset):\n",
        "    linear_model=np.dot(input_dataset,self.weight)+self.bias\n",
        "    logistic_model=Sigmoid(linear_model)\n",
        "    return logistic_model\n",
        "  def predict(self,input_test):\n",
        "    linear_model_predict=np.dot(input_test,self.weight)+self.bias\n",
        "    logistic_model_predict=Sigmoid(linear_model_predict)\n",
        "    return [1 if i>0.5 else 0 for i in logistic_model_predict]\n"
      ],
      "execution_count": 41,
      "outputs": []
    },
    {
      "cell_type": "code",
      "metadata": {
        "id": "3id6D6e8M0Xf"
      },
      "source": [
        "\n",
        "#normal log was giving an error\n",
        "def safe_log(input_):\n",
        "  result=np.where(input_> 0.01,input_,1.0)\n",
        "  np.log(result,out=result,where=result>0)\n",
        "  return result\n",
        "\n",
        "def cross_entropy_loss(predicted,actual):\n",
        "  predicted=np.array(predicted)\n",
        "  actual=np.array(actual)\n",
        "  #return np.mean(np.log(predicted)-np.log(actual))\n",
        "  return np.mean(np.multiply(actual,safe_log(predicted))-np.multiply((1-actual),safe_log(1-predicted)))"
      ],
      "execution_count": 42,
      "outputs": []
    },
    {
      "cell_type": "code",
      "metadata": {
        "id": "taLDhBM_a388"
      },
      "source": [
        "\n",
        "def train(model,input_train,output_train,learning_rate):\n",
        "  linear_model_predict=np.dot(input_train,model.weight)+model.bias\n",
        "  logistic_model_predict=1/(1+np.exp(-linear_model_predict))\n",
        "  \n",
        "  derivative_weight=np.mean(np.dot(input_train.T,(logistic_model_predict-output_train)))\n",
        "  derivative_bias=np.mean(np.sum(logistic_model_predict-output_train))    \n",
        "   \n",
        "  model.weight-=learning_rate*derivative_weight\n",
        "  model.bias-=learning_rate*derivative_bias\n"
      ],
      "execution_count": 43,
      "outputs": []
    },
    {
      "cell_type": "code",
      "metadata": {
        "id": "CmW_i7wu7Lkk"
      },
      "source": [
        "def LogisticRegression(input_train,output_train,learning_rate,epochs):\n",
        "  no_of_features=input_train.shape[1]\n",
        "  model=Model(no_of_features)\n",
        "  for i in range(epochs):\n",
        "    loss=cross_entropy_loss(model(input_train),output_train)\n",
        "    if(loss==0):\n",
        "      print(\"loss has become zero\")\n",
        "      break\n",
        "    train(model,input_train,output_train,learning_rate)\n",
        "    print(\"epoch:\",i,\"loss:\",loss,\"\\n\")\n",
        "  return model\n"
      ],
      "execution_count": 44,
      "outputs": []
    },
    {
      "cell_type": "code",
      "metadata": {
        "id": "99cI5pUuAICW"
      },
      "source": [
        "def score(predicted,actual):\n",
        "  return np.sum(predicted==actual)/len(predicted)"
      ],
      "execution_count": 45,
      "outputs": []
    },
    {
      "cell_type": "code",
      "metadata": {
        "colab": {
          "base_uri": "https://localhost:8080/"
        },
        "id": "NWcrxm1J8d81",
        "outputId": "2f06945c-4411-4b8d-a07c-a852bef42552"
      },
      "source": [
        "lrModel_1=LogisticRegression(input_train,output_train,0.111,5)"
      ],
      "execution_count": 46,
      "outputs": [
        {
          "output_type": "stream",
          "text": [
            "epoch: 0 loss: 0.03234686842613077 \n",
            "\n",
            "loss has become zero\n"
          ],
          "name": "stdout"
        }
      ]
    },
    {
      "cell_type": "code",
      "metadata": {
        "colab": {
          "base_uri": "https://localhost:8080/"
        },
        "id": "ftLVWG98_fl2",
        "outputId": "f5f70c10-d349-441b-82d4-bd740bb7660b"
      },
      "source": [
        "output_validation_predict=lrModel_1.predict(input_validation)\n",
        "print(\"Score:\",score(output_validation_predict,output_validation))"
      ],
      "execution_count": 47,
      "outputs": [
        {
          "output_type": "stream",
          "text": [
            "Score: 0.49\n"
          ],
          "name": "stdout"
        }
      ]
    },
    {
      "cell_type": "code",
      "metadata": {
        "colab": {
          "base_uri": "https://localhost:8080/"
        },
        "id": "qDHCtY1KBnld",
        "outputId": "895987a2-3ef6-486e-ebcf-833520d9a40d"
      },
      "source": [
        "lrModel_2=LogisticRegression(input_train,output_train,0.000004,5)\n",
        "output_validation_predict=lrModel_2.predict(input_validation)\n",
        "print(score(output_validation_predict,output_validation))"
      ],
      "execution_count": 48,
      "outputs": [
        {
          "output_type": "stream",
          "text": [
            "epoch: 0 loss: 0.03234686842613077 \n",
            "\n",
            "epoch: 1 loss: -1.9386398966602475e-05 \n",
            "\n",
            "loss has become zero\n",
            "0.51\n"
          ],
          "name": "stdout"
        }
      ]
    },
    {
      "cell_type": "markdown",
      "metadata": {
        "id": "uIvtVl_uDViR"
      },
      "source": [
        "Model is giving us the accurcy of 51 for validation data"
      ]
    },
    {
      "cell_type": "markdown",
      "metadata": {
        "id": "N6wgfb_bD1yD"
      },
      "source": [
        "Let's try to improve this model by using normalized data"
      ]
    },
    {
      "cell_type": "code",
      "metadata": {
        "colab": {
          "base_uri": "https://localhost:8080/"
        },
        "id": "yS1BVbNND0_N",
        "outputId": "fe61f10f-30fe-4ce0-c697-4eab1469272f"
      },
      "source": [
        "from sklearn.preprocessing import StandardScaler\n",
        "#Z score\n",
        "ss=StandardScaler()\n",
        "input_train_ss=ss.fit_transform(input_train)\n",
        "lrModel_3=LogisticRegression(input_train_ss,output_train,0.04,5)\n",
        "output_validation_predict=lrModel_3.predict(input_validation)\n",
        "print(score(output_validation_predict,output_validation))"
      ],
      "execution_count": 49,
      "outputs": [
        {
          "output_type": "stream",
          "text": [
            "epoch: 0 loss: 0.03234686842613077 \n",
            "\n",
            "epoch: 1 loss: -0.23631461405330748 \n",
            "\n",
            "epoch: 2 loss: 0.25827279096701944 \n",
            "\n",
            "epoch: 3 loss: -0.1422398578509023 \n",
            "\n",
            "epoch: 4 loss: 0.3782847306783461 \n",
            "\n",
            "0.51\n"
          ],
          "name": "stdout"
        }
      ]
    },
    {
      "cell_type": "markdown",
      "metadata": {
        "id": "rjNYm00WDdvc"
      },
      "source": [
        "Let's try this for test dataset"
      ]
    },
    {
      "cell_type": "code",
      "metadata": {
        "colab": {
          "base_uri": "https://localhost:8080/"
        },
        "id": "31c5NEY-DVNH",
        "outputId": "a01d3a9a-27d2-4645-8bfa-e32b061514b8"
      },
      "source": [
        "output_test_predict=lrModel_3.predict(input_test)\n",
        "print(score(output_test_predict,output_test))"
      ],
      "execution_count": 50,
      "outputs": [
        {
          "output_type": "stream",
          "text": [
            "0.515\n"
          ],
          "name": "stdout"
        }
      ]
    },
    {
      "cell_type": "markdown",
      "metadata": {
        "id": "RYNQZ1WDDrQ-"
      },
      "source": [
        "Model is giving 51 accuracy score for test data as well"
      ]
    },
    {
      "cell_type": "markdown",
      "metadata": {
        "id": "b8ubEh1a6uEG"
      },
      "source": [
        "#### Using Sklearn "
      ]
    },
    {
      "cell_type": "code",
      "metadata": {
        "id": "xgk2hv2F6qdB"
      },
      "source": [
        "from sklearn.linear_model import LogisticRegression"
      ],
      "execution_count": 51,
      "outputs": []
    },
    {
      "cell_type": "markdown",
      "metadata": {
        "id": "ti2MVm9TBLUl"
      },
      "source": [
        "Fitting the model"
      ]
    },
    {
      "cell_type": "code",
      "metadata": {
        "colab": {
          "base_uri": "https://localhost:8080/"
        },
        "id": "5dLFc724BNdx",
        "outputId": "18e73243-56db-414b-9f14-df90794e635c"
      },
      "source": [
        "logisticRegression=LogisticRegression()\n",
        "logisticRegression.fit(input_train,output_train)"
      ],
      "execution_count": 52,
      "outputs": [
        {
          "output_type": "execute_result",
          "data": {
            "text/plain": [
              "LogisticRegression(C=1.0, class_weight=None, dual=False, fit_intercept=True,\n",
              "                   intercept_scaling=1, l1_ratio=None, max_iter=100,\n",
              "                   multi_class='auto', n_jobs=None, penalty='l2',\n",
              "                   random_state=None, solver='lbfgs', tol=0.0001, verbose=0,\n",
              "                   warm_start=False)"
            ]
          },
          "metadata": {
            "tags": []
          },
          "execution_count": 52
        }
      ]
    },
    {
      "cell_type": "markdown",
      "metadata": {
        "id": "Mq1N3Yf3BSoR"
      },
      "source": [
        "Predicting the target variable usign validation dataset"
      ]
    },
    {
      "cell_type": "code",
      "metadata": {
        "id": "aPBX-AsgBWkd"
      },
      "source": [
        "predict_validation=logisticRegression.predict(input_validation)"
      ],
      "execution_count": 53,
      "outputs": []
    },
    {
      "cell_type": "code",
      "metadata": {
        "id": "lmI9JJtMCGwT"
      },
      "source": [
        "def score(predict,output):\n",
        "  return np.sum(predict==output)"
      ],
      "execution_count": 54,
      "outputs": []
    },
    {
      "cell_type": "code",
      "metadata": {
        "colab": {
          "base_uri": "https://localhost:8080/"
        },
        "id": "0JpJwmllCRne",
        "outputId": "5ff7fc97-b2a6-4adb-a0d3-cb96190c0f96"
      },
      "source": [
        "print(\"Score:%0.3f\"%(score(predict_validation,output_validation)))"
      ],
      "execution_count": 55,
      "outputs": [
        {
          "output_type": "stream",
          "text": [
            "Score:97.000\n"
          ],
          "name": "stdout"
        }
      ]
    },
    {
      "cell_type": "markdown",
      "metadata": {
        "id": "jQYKjgWTEHxC"
      },
      "source": [
        "Lets apply Normalization on the dataset:\n",
        "Well, the idea is simple. Variables that are measured at different scales do not contribute equally to the model fitting & model learned function and might end up creating a bias. Thus, to deal with this potential problem feature-wise standardized (μ=0, σ=1) is usually used prior to model fitting."
      ]
    },
    {
      "cell_type": "code",
      "metadata": {
        "id": "h-6X2fdwEG8R"
      },
      "source": [
        "from sklearn.preprocessing import StandardScaler\n",
        "#Z score\n",
        "standardScaler=StandardScaler()"
      ],
      "execution_count": 56,
      "outputs": []
    },
    {
      "cell_type": "code",
      "metadata": {
        "id": "e2JgZyBVDm0U"
      },
      "source": [
        "standard_input_train=standardScaler.fit_transform(input_train)"
      ],
      "execution_count": 57,
      "outputs": []
    },
    {
      "cell_type": "markdown",
      "metadata": {
        "id": "C8eUu_g4En2r"
      },
      "source": [
        "Now fit the model using normalized data"
      ]
    },
    {
      "cell_type": "code",
      "metadata": {
        "colab": {
          "base_uri": "https://localhost:8080/"
        },
        "id": "Bw65dKGgEtaJ",
        "outputId": "806507c5-fdb3-4cd8-ebe4-c62e87e014fc"
      },
      "source": [
        "standard_logisticRegression=LogisticRegression()\n",
        "standard_logisticRegression.fit(standard_input_train,output_train)"
      ],
      "execution_count": 58,
      "outputs": [
        {
          "output_type": "execute_result",
          "data": {
            "text/plain": [
              "LogisticRegression(C=1.0, class_weight=None, dual=False, fit_intercept=True,\n",
              "                   intercept_scaling=1, l1_ratio=None, max_iter=100,\n",
              "                   multi_class='auto', n_jobs=None, penalty='l2',\n",
              "                   random_state=None, solver='lbfgs', tol=0.0001, verbose=0,\n",
              "                   warm_start=False)"
            ]
          },
          "metadata": {
            "tags": []
          },
          "execution_count": 58
        }
      ]
    },
    {
      "cell_type": "code",
      "metadata": {
        "colab": {
          "base_uri": "https://localhost:8080/"
        },
        "id": "rPV0BqEJE3gp",
        "outputId": "099708ed-58a4-4bb7-b4cf-1524ac38c93d"
      },
      "source": [
        "predict_validation_from_standar=standard_logisticRegression.predict(input_validation)\n",
        "print(\"Score:%0.3f\"%(score(predict_validation_from_standar,output_validation)))"
      ],
      "execution_count": 59,
      "outputs": [
        {
          "output_type": "stream",
          "text": [
            "Score:98.000\n"
          ],
          "name": "stdout"
        }
      ]
    },
    {
      "cell_type": "markdown",
      "metadata": {
        "id": "_0FIZuWlIBLh"
      },
      "source": [
        "Test this improved model on unseen data"
      ]
    },
    {
      "cell_type": "code",
      "metadata": {
        "colab": {
          "base_uri": "https://localhost:8080/"
        },
        "id": "Ryb9uL-VHkfF",
        "outputId": "65b2230a-dc66-40f3-bd7f-c1c144e8e834"
      },
      "source": [
        "predict_test=standard_logisticRegression.predict(input_test)\n",
        "print(\"Score:\",score(predict_test,output_test))"
      ],
      "execution_count": 60,
      "outputs": [
        {
          "output_type": "stream",
          "text": [
            "Score: 97\n"
          ],
          "name": "stdout"
        }
      ]
    },
    {
      "cell_type": "code",
      "metadata": {
        "colab": {
          "base_uri": "https://localhost:8080/"
        },
        "id": "10ZMPiyuMV42",
        "outputId": "2c8e2536-bdaf-4cbf-cd7f-dc9179ded1f7"
      },
      "source": [
        "input_test.columns"
      ],
      "execution_count": 61,
      "outputs": [
        {
          "output_type": "execute_result",
          "data": {
            "text/plain": [
              "Index(['Income', 'Children', 'Cars', 'Age', 'Marital Status_Single',\n",
              "       'Gender_Male', 'Education_Graduate Degree', 'Education_High School',\n",
              "       'Education_Partial College', 'Education_Partial High School',\n",
              "       'Occupation_Management', 'Occupation_Manual', 'Occupation_Professional',\n",
              "       'Occupation_Skilled Manual', 'Home Owner_Yes',\n",
              "       'Commute Distance_1-2 Miles', 'Commute Distance_10+ Miles',\n",
              "       'Commute Distance_2-5 Miles', 'Commute Distance_5-10 Miles',\n",
              "       'Region_North America', 'Region_Pacific'],\n",
              "      dtype='object')"
            ]
          },
          "metadata": {
            "tags": []
          },
          "execution_count": 61
        }
      ]
    },
    {
      "cell_type": "markdown",
      "metadata": {
        "id": "p8wnBS_iIShe"
      },
      "source": [
        "Accuracy for unseen (test) data: 97%"
      ]
    },
    {
      "cell_type": "code",
      "metadata": {
        "colab": {
          "base_uri": "https://localhost:8080/"
        },
        "cellView": "form",
        "id": "kIbX9uVlGDoI",
        "outputId": "fb98ab17-d6eb-4578-b0b0-a9802fdb5577"
      },
      "source": [
        "#@title Enter Your Details\n",
        "Income = 1000000 #@param {type:\"number\"}\n",
        "Children =  0#@param {type:\"number\"}\n",
        "Cars = 1000 #@param {type:\"number\"}\n",
        "Age = 0 #@param {type:\"number\"}\n",
        "Are_you_single = \"No\" #@param [\"Yes\", \"No\"]\n",
        "Gender=\"Female\" #@param [\"Male\", \"Female\"]\n",
        "Education=\"Graduate Degree\" #@param [\"Bachelors\", \"Partial College\",\"High School\",\"Partial High School\",\"Graduate Degree\"]\n",
        "Occupation=\"Skilled Manual\" #@param [\"Skilled Manual\", \"Clerical\",\"Professional\",\"Manual\",\"Management\"]\n",
        "do_you_own_a_home=\"Yes\" #@param [\"Yes\", \"No\"]\n",
        "Commute_Distance = \"more than 10 miles\" #@param ['less then 2 miles', 'more than 10 miles','2 to 5 miles', '5 to 10 miles']\n",
        "Region=\"North America\" #@param [\"Europe\", \"Pacific\",\"North America\",\"Other\"]\n",
        "\n",
        "\n",
        "sample=np.array([[Income,\\\n",
        "                  Children,\\\n",
        "                  Cars,\\\n",
        "                  Age,\\\n",
        "                  1 if Are_you_single==\"Yes\" else 0,\\\n",
        "                  1 if Gender==\"Male\" else 0,\\\n",
        "                  1 if Education==\"Graduate Degree\" else 0,\\\n",
        "                  1 if Education==\"High School\" else 0,\\\n",
        "                  1 if Education==\"Partial College\" else 0,\\\n",
        "                  1 if Education==\"Partial High School\" else 0,\\\n",
        "                  1 if Occupation==\"Management\" else 0,\\\n",
        "                  1 if Occupation==\"Manual\" else 0,\\\n",
        "                  1 if Occupation==\"Skilled Manual\" else 0,\\\n",
        "                  1 if Occupation==\"Professional\" else 0,\\\n",
        "                  1 if do_you_own_a_home==\"Yes\" else 0,\\\n",
        "                  1 if Commute_Distance==\"less then 2 miles\" else 0,\\\n",
        "                  1 if Commute_Distance==\"more than 10 miles\" else 0,\\\n",
        "                  1 if Commute_Distance==\"2 to 5 miles\" else 0,\\\n",
        "                  1 if Commute_Distance==\"5 to 10 miles\" else 0,\\\n",
        "                  1 if Region==\"North America\" else 0,\\\n",
        "                  1 if Region==\"Pacific\" else 0]])\n",
        "predict_sample=standard_logisticRegression.predict(sample)\n",
        "print(\"You are gonna buy the bike.\" if predict_sample==1 else \"You are not going to buy a bike.\")\n"
      ],
      "execution_count": 62,
      "outputs": [
        {
          "output_type": "stream",
          "text": [
            "(1, 21)\n",
            "You are gonna buy the bike.\n"
          ],
          "name": "stdout"
        }
      ]
    },
    {
      "cell_type": "markdown",
      "metadata": {
        "id": "EhVUPiHmE50O"
      },
      "source": [
        "### Reference\n",
        "* For errors: stackoverflow.com and https://www.programmersought.com/article/88973940290/\n",
        "* NPTEL: Practical Machine Learning using Tensorflow Course\n",
        "* NPTEL: https://www.youtube.com/channel/UC2nvtxeY_rJLnlJKEg-J82g\n",
        "* https://www.youtube.com/watch?v=JDU3AzH3WKg&list=LL&index=1&t=900s"
      ]
    }
  ]
}